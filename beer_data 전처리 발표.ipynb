{
 "cells": [
  {
   "cell_type": "markdown",
   "id": "06335f15-bf31-4530-a8ad-cfb7d74690e6",
   "metadata": {},
   "source": []
  },
  {
   "cell_type": "markdown",
   "id": "0fb5b660",
   "metadata": {},
   "source": [
    "# 크롤링 한 파일을 병합하여 데이이터 프레임 생성"
   ]
  },
  {
   "cell_type": "markdown",
   "id": "3ae39faa-d6b3-4312-a28b-6f247b025c55",
   "metadata": {
    "jp-MarkdownHeadingCollapsed": true,
    "tags": []
   },
   "source": [
    " 총 87개의 맥주 데이터 \n",
    " \n",
    " 'kloud', 'fitz super clear', 'Asahi super dry', 'Tsingtao', 'Heineken', 'Kirin ichiban', 'Sapporo Premium Beer / Draft Beer', \n",
    " 'stella artois', 'guinness braught', '1664 Blanc', 'pilsner urquell', 'San Miguel','OB premier pilsner', 'cass fresh',\n",
    " 'Hite Black Beer Stout', 'dry finish', 'max hite', 'hite extra cold', 'victoria bitter', 'BINTANG pilsner',\n",
    " 'krombacher weizen', 'Miller Genuine Draft', 'Hoegaarden Cherry', 'TIGER REDLER',\n",
    " \"Suntory The Premium Malt's\", 'REEPER B Weissbier', 'PEEPER B IPA', 'TIGER BEER',\n",
    " 'TSINGTAO WHEAT BEER', 'Erdinger Weissbier', 'Carlsberg', 'Budweiser ', 'Hoegaarden',\n",
    " 'YEBISU', 'Paulaner Hefe-weissbier', 'Desperados', 'Peroni Nastro Azzurro',\n",
    " 'Edelweiss Snowfresh', 'Heineken Dark Lager', 'Kozel Dark 10', 'Guinness original',\n",
    " 'Filite', 'SEOULITE ALE', 'JEJU WIT ALE', 'Stephans Brau Philsner', 'Stephans Brau Larger',\n",
    " 'Stephans Bräu Hefe-Weizen Naturtrüb', 'Apostel Brau',\n",
    " 'Egger Zwickl', 'Egger Marzenbier', 'Holsten Premium Beer', 'Franzisaner Hefe-Weissbier',\n",
    " 'Egger Radler Grapefruit', 'Barvaria Premium', 'Barvaria 8.6', 'Lapin Kulta IV A',\n",
    " 'Grolsch Premium Larger', 'Gambrinus Original', 'XXXX Gold', 'Leffe Brown',\n",
    " 'Lowenbrau Original', 'Asahi Super dray Black ', 'Harbin Beer', \"beck's\",\n",
    " 'Hoegaarden Rosee', 'Platinum White Ale', 'Platinum Pale Ale', 'Ambar Especial Larger',\n",
    " 'Schöfferhofer Grapefruit', 'Volfas Engelman Grünberger Hefeweizen', 'Berliner Kindl Pilsener ',\n",
    " 'Red Rock', 'Erdinger Dunkel', 'Warsteiner Premium Verum', \"Queen's Ale Blonde Type\", 'Terra', \n",
    " 'Hite Zero', 'HiteJinro Filite Fresh Cool & Clear', 'Cass Light', 'Happoshu Filgood', \n",
    " 'Kloud Draft Original Gravity', 'Hite Beer', '7Bräu Gompyo Wheatbeer', \n",
    " 'Moonbear Geumgangsan Golden Ale','Blue Moon Belgian White', 'Heineken Silver', 'Cafri'"
   ]
  },
  {
   "cell_type": "code",
   "execution_count": 211,
   "id": "6ad0a6c8",
   "metadata": {},
   "outputs": [],
   "source": [
    "import pandas as pd\n",
    "import numpy as np\n",
    "import time\n",
    "\n",
    "import re"
   ]
  },
  {
   "cell_type": "code",
   "execution_count": null,
   "id": "26c34704-c8f7-4b93-827f-2b4b91347cd6",
   "metadata": {},
   "outputs": [],
   "source": []
  },
  {
   "cell_type": "code",
   "execution_count": 212,
   "id": "fb5110d6",
   "metadata": {},
   "outputs": [],
   "source": [
    "# 합친 데이터를 저장할 데이터프레임\n",
    "data = pd.DataFrame(data=[], columns=['beer_info', '검색이름', 'beer_name', 'beer_review'])\n",
    "\n",
    "# 수집한 파일의 개수\n",
    "files_cnt = 87\n",
    "\n",
    "for i in range(files_cnt):\n",
    "\n",
    "    # 해당 경로에서 beer_n_1.csv 형식의 파일들만 수집한 뒤 병합합니다.\n",
    "    try : \n",
    "        tmp = pd.read_csv(r'C:\\Users\\X1Carbon\\Desktop\\fast_campus\\machine_learning\\machine_learning_project\\beer_review_list\\beer_n_'+str(i)+'.csv', index_col=0)\n",
    "        data = pd.concat([data,tmp])\n",
    "    # 오류 발생 시 넘어갑니다.\n",
    "    except :\n",
    "        print(i, '번째에서 오류가 발생했습니다. 다음 파일로 넘어갑니다.')\n",
    "\n",
    "# 합친 데이터를 저장합니다.\n",
    "data.to_csv('beer_crawling_merge.csv', encoding='utf-8')"
   ]
  },
  {
   "cell_type": "code",
   "execution_count": null,
   "id": "a02494a2",
   "metadata": {},
   "outputs": [],
   "source": []
  },
  {
   "cell_type": "code",
   "execution_count": 213,
   "id": "f8fec99d",
   "metadata": {
    "scrolled": true
   },
   "outputs": [
    {
     "data": {
      "text/html": [
       "<div>\n",
       "<style scoped>\n",
       "    .dataframe tbody tr th:only-of-type {\n",
       "        vertical-align: middle;\n",
       "    }\n",
       "\n",
       "    .dataframe tbody tr th {\n",
       "        vertical-align: top;\n",
       "    }\n",
       "\n",
       "    .dataframe thead th {\n",
       "        text-align: right;\n",
       "    }\n",
       "</style>\n",
       "<table border=\"1\" class=\"dataframe\">\n",
       "  <thead>\n",
       "    <tr style=\"text-align: right;\">\n",
       "      <th></th>\n",
       "      <th>beer_info</th>\n",
       "      <th>beer_name</th>\n",
       "      <th>beer_review</th>\n",
       "    </tr>\n",
       "  </thead>\n",
       "  <tbody>\n",
       "    <tr>\n",
       "      <th>0</th>\n",
       "      <td>italianjohn(5,276)\\n🇺🇸Penndel, United States\\n...</td>\n",
       "      <td>Kloud Original Gravity</td>\n",
       "      <td>Clear golden blonde pour with a thin white hea...</td>\n",
       "    </tr>\n",
       "    <tr>\n",
       "      <th>1</th>\n",
       "      <td>orda(284)\\n🇺🇸Aurora, United States\\n3.9August ...</td>\n",
       "      <td>Kloud Original Gravity</td>\n",
       "      <td>Appearance: golden amber; slight head\\nTaste: ...</td>\n",
       "    </tr>\n",
       "    <tr>\n",
       "      <th>2</th>\n",
       "      <td>Radek Kliber(8,065)\\n🇨🇦Toronto (Can) Krotoszyn...</td>\n",
       "      <td>Kloud Original Gravity</td>\n",
       "      <td>Bottle 330 ml \\n\\nAroma: nice, fresh, on dry s...</td>\n",
       "    </tr>\n",
       "    <tr>\n",
       "      <th>3</th>\n",
       "      <td>geologyguy(2,575)\\n🇺🇸Columbia, United States\\n...</td>\n",
       "      <td>Kloud Original Gravity</td>\n",
       "      <td>Smell is light of malt...taste is a that malt ...</td>\n",
       "    </tr>\n",
       "    <tr>\n",
       "      <th>4</th>\n",
       "      <td>Wolff90(203)\\n🇸🇪Upplands Väsby, Sweden\\n1.0Feb...</td>\n",
       "      <td>Kloud Original Gravity</td>\n",
       "      <td>Rating copied from Untappd. Had while flying A...</td>\n",
       "    </tr>\n",
       "    <tr>\n",
       "      <th>5</th>\n",
       "      <td>patjenner(3)\\n4.0December 31, 2020\\nStrong hop...</td>\n",
       "      <td>Kloud Original Gravity</td>\n",
       "      <td>Strong hoppy flavor. Bavarian style. Ok but no...</td>\n",
       "    </tr>\n",
       "    <tr>\n",
       "      <th>6</th>\n",
       "      <td>pictoman(4,945)\\n🇨🇦Vancouver, Canada\\n2.0April...</td>\n",
       "      <td>Kloud Original Gravity</td>\n",
       "      <td>Poured from 330mL bottle. Clear gold with whit...</td>\n",
       "    </tr>\n",
       "    <tr>\n",
       "      <th>7</th>\n",
       "      <td>snoworsummer(9,480)\\n🇺🇸baltimore, United State...</td>\n",
       "      <td>Kloud Original Gravity</td>\n",
       "      <td>Bottle. Tastes like dough, corn, grass, smooth...</td>\n",
       "    </tr>\n",
       "    <tr>\n",
       "      <th>8</th>\n",
       "      <td>mickmac(743)\\n🇦🇺Ngunnawal, Australia\\n2.9Febru...</td>\n",
       "      <td>Kloud Original Gravity</td>\n",
       "      <td>Pours with a brilliant clear gold body and a m...</td>\n",
       "    </tr>\n",
       "    <tr>\n",
       "      <th>9</th>\n",
       "      <td>GuideDogSaint(3,189)\\n🇨🇳Xiamen, China\\n2.2Febr...</td>\n",
       "      <td>Kloud Original Gravity</td>\n",
       "      <td>Small can from a supermarket in Phnom Penh. Po...</td>\n",
       "    </tr>\n",
       "  </tbody>\n",
       "</table>\n",
       "</div>"
      ],
      "text/plain": [
       "                                           beer_info               beer_name  \\\n",
       "0  italianjohn(5,276)\\n🇺🇸Penndel, United States\\n...  Kloud Original Gravity   \n",
       "1  orda(284)\\n🇺🇸Aurora, United States\\n3.9August ...  Kloud Original Gravity   \n",
       "2  Radek Kliber(8,065)\\n🇨🇦Toronto (Can) Krotoszyn...  Kloud Original Gravity   \n",
       "3  geologyguy(2,575)\\n🇺🇸Columbia, United States\\n...  Kloud Original Gravity   \n",
       "4  Wolff90(203)\\n🇸🇪Upplands Väsby, Sweden\\n1.0Feb...  Kloud Original Gravity   \n",
       "5  patjenner(3)\\n4.0December 31, 2020\\nStrong hop...  Kloud Original Gravity   \n",
       "6  pictoman(4,945)\\n🇨🇦Vancouver, Canada\\n2.0April...  Kloud Original Gravity   \n",
       "7  snoworsummer(9,480)\\n🇺🇸baltimore, United State...  Kloud Original Gravity   \n",
       "8  mickmac(743)\\n🇦🇺Ngunnawal, Australia\\n2.9Febru...  Kloud Original Gravity   \n",
       "9  GuideDogSaint(3,189)\\n🇨🇳Xiamen, China\\n2.2Febr...  Kloud Original Gravity   \n",
       "\n",
       "                                         beer_review  \n",
       "0  Clear golden blonde pour with a thin white hea...  \n",
       "1  Appearance: golden amber; slight head\\nTaste: ...  \n",
       "2  Bottle 330 ml \\n\\nAroma: nice, fresh, on dry s...  \n",
       "3  Smell is light of malt...taste is a that malt ...  \n",
       "4  Rating copied from Untappd. Had while flying A...  \n",
       "5  Strong hoppy flavor. Bavarian style. Ok but no...  \n",
       "6  Poured from 330mL bottle. Clear gold with whit...  \n",
       "7  Bottle. Tastes like dough, corn, grass, smooth...  \n",
       "8  Pours with a brilliant clear gold body and a m...  \n",
       "9  Small can from a supermarket in Phnom Penh. Po...  "
      ]
     },
     "execution_count": 213,
     "metadata": {},
     "output_type": "execute_result"
    }
   ],
   "source": [
    "# 합친 데이터 확인\n",
    "data = pd.read_csv('beer_crawling_merge.csv', encoding='utf-8', index_col=0)\n",
    "\n",
    "data = data[['beer_info', 'beer_name', 'beer_review']]\n",
    "\n",
    "data.head(10)"
   ]
  },
  {
   "cell_type": "code",
   "execution_count": 215,
   "id": "c53e49c0",
   "metadata": {},
   "outputs": [
    {
     "data": {
      "text/html": [
       "<div>\n",
       "<style scoped>\n",
       "    .dataframe tbody tr th:only-of-type {\n",
       "        vertical-align: middle;\n",
       "    }\n",
       "\n",
       "    .dataframe tbody tr th {\n",
       "        vertical-align: top;\n",
       "    }\n",
       "\n",
       "    .dataframe thead th {\n",
       "        text-align: right;\n",
       "    }\n",
       "</style>\n",
       "<table border=\"1\" class=\"dataframe\">\n",
       "  <thead>\n",
       "    <tr style=\"text-align: right;\">\n",
       "      <th></th>\n",
       "      <th>beer_info</th>\n",
       "      <th>beer_name</th>\n",
       "      <th>beer_review</th>\n",
       "    </tr>\n",
       "  </thead>\n",
       "  <tbody>\n",
       "    <tr>\n",
       "      <th>10</th>\n",
       "      <td>maxwelldeux(4,373)\\n🇺🇸Snohomish, United States...</td>\n",
       "      <td>Cafri</td>\n",
       "      <td>This is, in fact, beer, which is the best thin...</td>\n",
       "    </tr>\n",
       "    <tr>\n",
       "      <th>11</th>\n",
       "      <td>FatPhil(23,303)\\n🇪🇪Tallinn, Estonia\\n1.2May 25...</td>\n",
       "      <td>Cafri</td>\n",
       "      <td>330ml clear bottle (Anywhere, Suwon)\\n\\nSweet ...</td>\n",
       "    </tr>\n",
       "    <tr>\n",
       "      <th>12</th>\n",
       "      <td>AndreasJaeger(505)\\n🇸🇪Malmö, Sweden\\n1.4Februa...</td>\n",
       "      <td>Cafri</td>\n",
       "      <td>Vattnigt gul i färgen med luftigt vitt skum. T...</td>\n",
       "    </tr>\n",
       "    <tr>\n",
       "      <th>13</th>\n",
       "      <td>Bart(2,934)\\n🇧🇪Brussels, Belgium\\n2.3September...</td>\n",
       "      <td>Cafri</td>\n",
       "      <td>355ml Canned. Golden blond coloured beer with ...</td>\n",
       "    </tr>\n",
       "    <tr>\n",
       "      <th>14</th>\n",
       "      <td>strap(981)\\n🇩🇪Sindelfingen, Germany\\n1.9July 1...</td>\n",
       "      <td>Cafri</td>\n",
       "      <td>Typical Korean beer. Very pale colored, weak o...</td>\n",
       "    </tr>\n",
       "    <tr>\n",
       "      <th>15</th>\n",
       "      <td>Pyobon(2,468)\\n🇦🇺Sydney, Australia\\n1.9July 12...</td>\n",
       "      <td>Cafri</td>\n",
       "      <td>(bottle) Poured pale straw with no head. Aroma...</td>\n",
       "    </tr>\n",
       "    <tr>\n",
       "      <th>16</th>\n",
       "      <td>WVHouseofBeer(1,152)\\n🇺🇸United States\\n1.6Marc...</td>\n",
       "      <td>Cafri</td>\n",
       "      <td>Eh exactly the same as all the other Korean pa...</td>\n",
       "    </tr>\n",
       "    <tr>\n",
       "      <th>17</th>\n",
       "      <td>BaroneBirra(534)\\n🇮🇹Gorizia, Italy\\n2.3January...</td>\n",
       "      <td>Cafri</td>\n",
       "      <td>0,33 bottle from Seoul.\\nPale gold, very clear...</td>\n",
       "    </tr>\n",
       "    <tr>\n",
       "      <th>18</th>\n",
       "      <td>Palme(5,036)\\n🇳🇴Bergen, Norway\\n1.5December 28...</td>\n",
       "      <td>Cafri</td>\n",
       "      <td>0.33l bottle @ Hyundai Hotel, Ulsan South Kore...</td>\n",
       "    </tr>\n",
       "    <tr>\n",
       "      <th>19</th>\n",
       "      <td>azuritko6(10)\\n🇺🇸United States\\n3.2December 14...</td>\n",
       "      <td>Cafri</td>\n",
       "      <td>Can. Velmi zaujimavo vonia akoby kvasinkove. v...</td>\n",
       "    </tr>\n",
       "    <tr>\n",
       "      <th>20</th>\n",
       "      <td>KyotoLefty(14,503)\\n🇯🇵Kyoto, Japan\\n2.0Decembe...</td>\n",
       "      <td>Cafri</td>\n",
       "      <td>Fresh Bottle. Fruity nose, light malt, some gr...</td>\n",
       "    </tr>\n",
       "    <tr>\n",
       "      <th>21</th>\n",
       "      <td>Bierkrug(2,129)\\n0.7November 18, 2011\\n330 ml ...</td>\n",
       "      <td>Cafri</td>\n",
       "      <td>330 ml bottle picked up in Sulaymaniyah, Iraq....</td>\n",
       "    </tr>\n",
       "    <tr>\n",
       "      <th>22</th>\n",
       "      <td>SHIG(11,265)\\n🇺🇸Hampton, United States\\n2.1May...</td>\n",
       "      <td>Cafri</td>\n",
       "      <td>Can: Poured a golden color with a fast evapora...</td>\n",
       "    </tr>\n",
       "    <tr>\n",
       "      <th>23</th>\n",
       "      <td>robforbes(2,437)\\n🇺🇸Bremerton, United States\\n...</td>\n",
       "      <td>Cafri</td>\n",
       "      <td>one of the better pale lagers in south korea. ...</td>\n",
       "    </tr>\n",
       "    <tr>\n",
       "      <th>24</th>\n",
       "      <td>BelgianBeerGal(5,817)\\n🇺🇸Panama City, United S...</td>\n",
       "      <td>Cafri</td>\n",
       "      <td>33cl can in Seoul. Decoration on label makes i...</td>\n",
       "    </tr>\n",
       "    <tr>\n",
       "      <th>25</th>\n",
       "      <td>Wal(5)\\n🇩🇪Berlin, Germany\\n0.8September 4, 200...</td>\n",
       "      <td>Cafri</td>\n",
       "      <td>Lived in Korea 5 years and I really tried hard...</td>\n",
       "    </tr>\n",
       "    <tr>\n",
       "      <th>26</th>\n",
       "      <td>brewssuds(17)\\n🇨🇦Canada\\n1.9August 24, 2008\\nU...</td>\n",
       "      <td>Cafri</td>\n",
       "      <td>Unremarkable. Pretty generic macro lager (and ...</td>\n",
       "    </tr>\n",
       "    <tr>\n",
       "      <th>27</th>\n",
       "      <td>patrick767(6,028)\\n🇺🇸fort wayne, United States...</td>\n",
       "      <td>Cafri</td>\n",
       "      <td>bottle - Hey, it says this beer inspires young...</td>\n",
       "    </tr>\n",
       "    <tr>\n",
       "      <th>28</th>\n",
       "      <td>jerryballoono(32)\\n🇹🇷Urgup, Turkey\\n1.7Decembe...</td>\n",
       "      <td>Cafri</td>\n",
       "      <td>Almost thought my 330ml bottle was off as unus...</td>\n",
       "    </tr>\n",
       "    <tr>\n",
       "      <th>29</th>\n",
       "      <td>ultraspank(867)\\n🇵🇹Alverca, Lisboa, Portugal\\n...</td>\n",
       "      <td>Cafri</td>\n",
       "      <td>Had this while satisfying the Itis at Hoolala ...</td>\n",
       "    </tr>\n",
       "    <tr>\n",
       "      <th>30</th>\n",
       "      <td>Gethinbeer(2,451)\\n🇨🇦Canada\\n1.8April 18, 2007...</td>\n",
       "      <td>Cafri</td>\n",
       "      <td>From bottle. When I drank this I must say I th...</td>\n",
       "    </tr>\n",
       "    <tr>\n",
       "      <th>31</th>\n",
       "      <td>Sully(1,380)\\n🇦🇺Potts Point, New South Wales, ...</td>\n",
       "      <td>Cafri</td>\n",
       "      <td>Found this in a Korean mini-market in Kuala Lu...</td>\n",
       "    </tr>\n",
       "    <tr>\n",
       "      <th>32</th>\n",
       "      <td>rolickstamp293(14,100)\\n🇫🇯Fiji Islands\\n1.9Jan...</td>\n",
       "      <td>Cafri</td>\n",
       "      <td>Bottle with 4.2% alc. bought in Seoul. Golden ...</td>\n",
       "    </tr>\n",
       "    <tr>\n",
       "      <th>33</th>\n",
       "      <td>Sanchex(224)\\n🇨🇦Toronto, Canada\\n1.4September ...</td>\n",
       "      <td>Cafri</td>\n",
       "      <td>Worst \"premium\" beer I’ve tasted.  All marketi...</td>\n",
       "    </tr>\n",
       "    <tr>\n",
       "      <th>34</th>\n",
       "      <td>larsga(7,693)\\n🇳🇴Oslo, Norway\\n1.7June 7, 2006...</td>\n",
       "      <td>Cafri</td>\n",
       "      <td>Thin coarse white head over very pale yellow b...</td>\n",
       "    </tr>\n",
       "    <tr>\n",
       "      <th>35</th>\n",
       "      <td>bourne(161)\\n🇰🇷Suwon, South Korea\\n1.3March 21...</td>\n",
       "      <td>Cafri</td>\n",
       "      <td>I didnt think this was beer when I bought it. ...</td>\n",
       "    </tr>\n",
       "    <tr>\n",
       "      <th>36</th>\n",
       "      <td>curvedbeer(11)\\n🇸🇬Singapore\\n1.0November 6, 20...</td>\n",
       "      <td>Cafri</td>\n",
       "      <td>Of all of the commercially brewed beers I’ve t...</td>\n",
       "    </tr>\n",
       "    <tr>\n",
       "      <th>37</th>\n",
       "      <td>tomciccateri(1,033)\\n🇺🇸Albuquerque, United Sta...</td>\n",
       "      <td>Cafri</td>\n",
       "      <td>From a can onboard a KAL flight. 4.2%, with no...</td>\n",
       "    </tr>\n",
       "    <tr>\n",
       "      <th>38</th>\n",
       "      <td>Papsoe(25,039)\\n🇩🇰Frederiksberg, Denmark\\n2.1J...</td>\n",
       "      <td>Cafri</td>\n",
       "      <td>(Bottle 48 cl) Again - for Korea - this beauti...</td>\n",
       "    </tr>\n",
       "    <tr>\n",
       "      <th>39</th>\n",
       "      <td>MrRomero(1,976)\\n🇺🇸Nolanville, United States\\n...</td>\n",
       "      <td>Cafri</td>\n",
       "      <td>Probably my favorite Korean beer but not as av...</td>\n",
       "    </tr>\n",
       "  </tbody>\n",
       "</table>\n",
       "</div>"
      ],
      "text/plain": [
       "                                            beer_info beer_name  \\\n",
       "10  maxwelldeux(4,373)\\n🇺🇸Snohomish, United States...     Cafri   \n",
       "11  FatPhil(23,303)\\n🇪🇪Tallinn, Estonia\\n1.2May 25...     Cafri   \n",
       "12  AndreasJaeger(505)\\n🇸🇪Malmö, Sweden\\n1.4Februa...     Cafri   \n",
       "13  Bart(2,934)\\n🇧🇪Brussels, Belgium\\n2.3September...     Cafri   \n",
       "14  strap(981)\\n🇩🇪Sindelfingen, Germany\\n1.9July 1...     Cafri   \n",
       "15  Pyobon(2,468)\\n🇦🇺Sydney, Australia\\n1.9July 12...     Cafri   \n",
       "16  WVHouseofBeer(1,152)\\n🇺🇸United States\\n1.6Marc...     Cafri   \n",
       "17  BaroneBirra(534)\\n🇮🇹Gorizia, Italy\\n2.3January...     Cafri   \n",
       "18  Palme(5,036)\\n🇳🇴Bergen, Norway\\n1.5December 28...     Cafri   \n",
       "19  azuritko6(10)\\n🇺🇸United States\\n3.2December 14...     Cafri   \n",
       "20  KyotoLefty(14,503)\\n🇯🇵Kyoto, Japan\\n2.0Decembe...     Cafri   \n",
       "21  Bierkrug(2,129)\\n0.7November 18, 2011\\n330 ml ...     Cafri   \n",
       "22  SHIG(11,265)\\n🇺🇸Hampton, United States\\n2.1May...     Cafri   \n",
       "23  robforbes(2,437)\\n🇺🇸Bremerton, United States\\n...     Cafri   \n",
       "24  BelgianBeerGal(5,817)\\n🇺🇸Panama City, United S...     Cafri   \n",
       "25  Wal(5)\\n🇩🇪Berlin, Germany\\n0.8September 4, 200...     Cafri   \n",
       "26  brewssuds(17)\\n🇨🇦Canada\\n1.9August 24, 2008\\nU...     Cafri   \n",
       "27  patrick767(6,028)\\n🇺🇸fort wayne, United States...     Cafri   \n",
       "28  jerryballoono(32)\\n🇹🇷Urgup, Turkey\\n1.7Decembe...     Cafri   \n",
       "29  ultraspank(867)\\n🇵🇹Alverca, Lisboa, Portugal\\n...     Cafri   \n",
       "30  Gethinbeer(2,451)\\n🇨🇦Canada\\n1.8April 18, 2007...     Cafri   \n",
       "31  Sully(1,380)\\n🇦🇺Potts Point, New South Wales, ...     Cafri   \n",
       "32  rolickstamp293(14,100)\\n🇫🇯Fiji Islands\\n1.9Jan...     Cafri   \n",
       "33  Sanchex(224)\\n🇨🇦Toronto, Canada\\n1.4September ...     Cafri   \n",
       "34  larsga(7,693)\\n🇳🇴Oslo, Norway\\n1.7June 7, 2006...     Cafri   \n",
       "35  bourne(161)\\n🇰🇷Suwon, South Korea\\n1.3March 21...     Cafri   \n",
       "36  curvedbeer(11)\\n🇸🇬Singapore\\n1.0November 6, 20...     Cafri   \n",
       "37  tomciccateri(1,033)\\n🇺🇸Albuquerque, United Sta...     Cafri   \n",
       "38  Papsoe(25,039)\\n🇩🇰Frederiksberg, Denmark\\n2.1J...     Cafri   \n",
       "39  MrRomero(1,976)\\n🇺🇸Nolanville, United States\\n...     Cafri   \n",
       "\n",
       "                                          beer_review  \n",
       "10  This is, in fact, beer, which is the best thin...  \n",
       "11  330ml clear bottle (Anywhere, Suwon)\\n\\nSweet ...  \n",
       "12  Vattnigt gul i färgen med luftigt vitt skum. T...  \n",
       "13  355ml Canned. Golden blond coloured beer with ...  \n",
       "14  Typical Korean beer. Very pale colored, weak o...  \n",
       "15  (bottle) Poured pale straw with no head. Aroma...  \n",
       "16  Eh exactly the same as all the other Korean pa...  \n",
       "17  0,33 bottle from Seoul.\\nPale gold, very clear...  \n",
       "18  0.33l bottle @ Hyundai Hotel, Ulsan South Kore...  \n",
       "19  Can. Velmi zaujimavo vonia akoby kvasinkove. v...  \n",
       "20  Fresh Bottle. Fruity nose, light malt, some gr...  \n",
       "21  330 ml bottle picked up in Sulaymaniyah, Iraq....  \n",
       "22  Can: Poured a golden color with a fast evapora...  \n",
       "23  one of the better pale lagers in south korea. ...  \n",
       "24  33cl can in Seoul. Decoration on label makes i...  \n",
       "25  Lived in Korea 5 years and I really tried hard...  \n",
       "26  Unremarkable. Pretty generic macro lager (and ...  \n",
       "27  bottle - Hey, it says this beer inspires young...  \n",
       "28  Almost thought my 330ml bottle was off as unus...  \n",
       "29  Had this while satisfying the Itis at Hoolala ...  \n",
       "30  From bottle. When I drank this I must say I th...  \n",
       "31  Found this in a Korean mini-market in Kuala Lu...  \n",
       "32  Bottle with 4.2% alc. bought in Seoul. Golden ...  \n",
       "33  Worst \"premium\" beer I’ve tasted.  All marketi...  \n",
       "34  Thin coarse white head over very pale yellow b...  \n",
       "35  I didnt think this was beer when I bought it. ...  \n",
       "36  Of all of the commercially brewed beers I’ve t...  \n",
       "37  From a can onboard a KAL flight. 4.2%, with no...  \n",
       "38  (Bottle 48 cl) Again - for Korea - this beauti...  \n",
       "39  Probably my favorite Korean beer but not as av...  "
      ]
     },
     "execution_count": 215,
     "metadata": {},
     "output_type": "execute_result"
    }
   ],
   "source": [
    "data.tail(30)"
   ]
  },
  {
   "cell_type": "code",
   "execution_count": null,
   "id": "3c2a3efb",
   "metadata": {},
   "outputs": [],
   "source": []
  },
  {
   "cell_type": "markdown",
   "id": "827edb2e-1120-442e-a75a-047d1e3d513f",
   "metadata": {},
   "source": [
    "# 데이터 정보 확인 후 null 값 처리"
   ]
  },
  {
   "cell_type": "code",
   "execution_count": 216,
   "id": "00ddd780",
   "metadata": {},
   "outputs": [
    {
     "name": "stdout",
     "output_type": "stream",
     "text": [
      "<class 'pandas.core.frame.DataFrame'>\n",
      "Int64Index: 83191 entries, 0 to 39\n",
      "Data columns (total 3 columns):\n",
      " #   Column       Non-Null Count  Dtype \n",
      "---  ------       --------------  ----- \n",
      " 0   beer_info    83191 non-null  object\n",
      " 1   beer_name    83191 non-null  object\n",
      " 2   beer_review  83190 non-null  object\n",
      "dtypes: object(3)\n",
      "memory usage: 2.5+ MB\n"
     ]
    }
   ],
   "source": [
    "# 데이터 정보 확인\n",
    "data.info()"
   ]
  },
  {
   "cell_type": "markdown",
   "id": "122a0e02-5cc1-47b9-91a7-92cd3185628f",
   "metadata": {},
   "source": [
    "# 결측치 확인 \n",
    "data.isna().sum()"
   ]
  },
  {
   "cell_type": "code",
   "execution_count": 221,
   "id": "a27f1a39",
   "metadata": {},
   "outputs": [],
   "source": [
    "# 결측치 제거\n",
    "data['beer_review']=data['beer_review'].fillna('no review')"
   ]
  },
  {
   "cell_type": "markdown",
   "id": "8c47cbf1-4c20-48fa-80e4-c44d391514ff",
   "metadata": {},
   "source": [
    "# 'beer_info' 데이터 값 확인 후 \\n 문자 기준으로 분리"
   ]
  },
  {
   "cell_type": "markdown",
   "id": "52fa24a3-7027-4457-b63c-bcbe33ab7735",
   "metadata": {},
   "source": [
    "이때 'beer_info'에 들어있는 리뷰데이터 또한 \\n 문자를 기준을 분리되어, 리뷰 데이터는 따로 크롤링 후 join을 통해 합친 데이터를 사용"
   ]
  },
  {
   "cell_type": "code",
   "execution_count": 225,
   "id": "6fd0bdd8",
   "metadata": {},
   "outputs": [
    {
     "data": {
      "text/plain": [
       "'italianjohn(5,276)\\n🇺🇸Penndel, United States\\n2.8September 6, 2021\\nClear golden blonde pour with a thin white head and spots of lacing …. Aroma of sweet malts, caramel malt, some light floral notes, grape  and a little bit of lemon … taste is of the same, lemon, little floral, sweet caramel malts, grape and light bitter citrusy hops …. Drinks bigger than a regular lager …. Definitely see the German ingredients in this brew … sessionable little lager\\nShow less\\nBOTTLE\\nAroma\\n5\\nAppearance\\n3\\nFlavor\\n5\\nMouthfeel\\n3\\nOverall\\n12'"
      ]
     },
     "execution_count": 225,
     "metadata": {},
     "output_type": "execute_result"
    }
   ],
   "source": [
    "import pandas as pd\n",
    "\n",
    "data = pd.read_csv('beer_crawling_merge.csv', encoding='utf-8', index_col=0)\n",
    "\n",
    "# 맥주정보 Raw 데이터값\n",
    "data['beer_info'].iloc[0]"
   ]
  },
  {
   "cell_type": "code",
   "execution_count": null,
   "id": "5a11a829",
   "metadata": {},
   "outputs": [],
   "source": []
  },
  {
   "cell_type": "code",
   "execution_count": 226,
   "id": "3178ecc8",
   "metadata": {},
   "outputs": [
    {
     "data": {
      "text/plain": [
       "0     [italianjohn(5,276), 🇺🇸Penndel, United States,...\n",
       "1     [orda(284), 🇺🇸Aurora, United States, 3.9August...\n",
       "2     [Radek Kliber(8,065), 🇨🇦Toronto (Can) Krotoszy...\n",
       "3     [geologyguy(2,575), 🇺🇸Columbia, United States,...\n",
       "4     [Wolff90(203), 🇸🇪Upplands Väsby, Sweden, 1.0Fe...\n",
       "                            ...                        \n",
       "35    [bourne(161), 🇰🇷Suwon, South Korea, 1.3March 2...\n",
       "36    [curvedbeer(11), 🇸🇬Singapore, 1.0November 6, 2...\n",
       "37    [tomciccateri(1,033), 🇺🇸Albuquerque, United St...\n",
       "38    [Papsoe(25,039), 🇩🇰Frederiksberg, Denmark, 2.1...\n",
       "39    [MrRomero(1,976), 🇺🇸Nolanville, United States,...\n",
       "Name: beer_info, Length: 83191, dtype: object"
      ]
     },
     "execution_count": 226,
     "metadata": {},
     "output_type": "execute_result"
    }
   ],
   "source": [
    "# tmp 변수에 카피\n",
    "tmp = data.copy()\n",
    "\n",
    "# \\n 개행문자 기준으로 분리\n",
    "tmp['beer_info'] = tmp['beer_info'].str.split('\\n')\n",
    "tmp['beer_info']"
   ]
  },
  {
   "cell_type": "code",
   "execution_count": null,
   "id": "aad9eb3c-fb72-44a3-92b0-bf21ad06547f",
   "metadata": {},
   "outputs": [],
   "source": []
  },
  {
   "cell_type": "code",
   "execution_count": 227,
   "id": "8222ac3c",
   "metadata": {},
   "outputs": [
    {
     "data": {
      "text/plain": [
       "['italianjohn(5,276)',\n",
       " '🇺🇸Penndel, United States',\n",
       " '2.8September 6, 2021',\n",
       " 'Clear golden blonde pour with a thin white head and spots of lacing …. Aroma of sweet malts, caramel malt, some light floral notes, grape  and a little bit of lemon … taste is of the same, lemon, little floral, sweet caramel malts, grape and light bitter citrusy hops …. Drinks bigger than a regular lager …. Definitely see the German ingredients in this brew … sessionable little lager',\n",
       " 'Show less',\n",
       " 'BOTTLE',\n",
       " 'Aroma',\n",
       " '5',\n",
       " 'Appearance',\n",
       " '3',\n",
       " 'Flavor',\n",
       " '5',\n",
       " 'Mouthfeel',\n",
       " '3',\n",
       " 'Overall',\n",
       " '12']"
      ]
     },
     "execution_count": 227,
     "metadata": {},
     "output_type": "execute_result"
    }
   ],
   "source": [
    "# 분리된 스트링 값 확인 -> List로 변환됨\n",
    "tmp['beer_info'].iloc[0]"
   ]
  },
  {
   "cell_type": "code",
   "execution_count": 228,
   "id": "343ea9a6",
   "metadata": {},
   "outputs": [
    {
     "data": {
      "text/plain": [
       "['GIANNISONG(8)',\n",
       " '2.0July 20, 2019',\n",
       " '돈주고마실때는 저녁회식때일뿐일까',\n",
       " '그래도 국산 페일라거중에서는 제일낫다.',\n",
       " '홉피함이 약간느껴지는것이 장점.',\n",
       " '최근 수입라거,필스너들이 점점 묽어지고있어서 상대적으로 맛있게 느껴짐',\n",
       " '',\n",
       " '소주에 섞어도 맛있음.',\n",
       " 'Show less',\n",
       " 'BOTTLE',\n",
       " 'Aroma',\n",
       " '-',\n",
       " 'Appearance',\n",
       " '-',\n",
       " 'Flavor',\n",
       " '-',\n",
       " 'Mouthfeel',\n",
       " '-',\n",
       " 'Overall',\n",
       " '-']"
      ]
     },
     "execution_count": 228,
     "metadata": {},
     "output_type": "execute_result"
    }
   ],
   "source": [
    "tmp['beer_info'].iloc[17]"
   ]
  },
  {
   "cell_type": "code",
   "execution_count": 229,
   "id": "84ce1f52",
   "metadata": {},
   "outputs": [
    {
     "data": {
      "text/plain": [
       "['deanso(15,284)',\n",
       " '🇬🇧Doncaster, England',\n",
       " '2.3January 16, 2020',\n",
       " '33cl can from lucky supermarket, siem reap.',\n",
       " 'Thin white head.  Clear golden pour. Bland and watery',\n",
       " 'CASK',\n",
       " 'Aroma',\n",
       " '4',\n",
       " 'Appearance',\n",
       " '3',\n",
       " 'Flavor',\n",
       " '4',\n",
       " 'Mouthfeel',\n",
       " '3',\n",
       " 'Overall',\n",
       " '9']"
      ]
     },
     "execution_count": 229,
     "metadata": {},
     "output_type": "execute_result"
    }
   ],
   "source": [
    "# 새로운 데이터 프레임 ttmp에 copy()후 전처리\n",
    "ttmp = tmp.copy()\n",
    "# 맥주정보 리스트 출력 : 좋아요 수가 기록된 유저 정보\n",
    "ttmp['beer_info'].iloc[10]"
   ]
  },
  {
   "cell_type": "markdown",
   "id": "c96cb317-1a11-4646-b877-c8472eddbf1a",
   "metadata": {},
   "source": [
    "# 'Overall' 뒤에 좋아요가 들어간 데이터 삭제"
   ]
  },
  {
   "cell_type": "code",
   "execution_count": 230,
   "id": "abf0fad2",
   "metadata": {},
   "outputs": [],
   "source": [
    "# 전체 데이터프레임에서 좋아요가 1개인 것 찾아서 맨 뒤에 것 삭제\n",
    "ttmp['beer_info'] = ttmp['beer_info'].apply(lambda x : x if x[-2]=='Overall' else x[:-1] )"
   ]
  },
  {
   "cell_type": "code",
   "execution_count": 231,
   "id": "9b1010eb",
   "metadata": {},
   "outputs": [
    {
     "data": {
      "text/plain": [
       "['italianjohn(5,276)',\n",
       " '🇺🇸Penndel, United States',\n",
       " '2.8September 6, 2021',\n",
       " '12',\n",
       " 'Overall',\n",
       " '3',\n",
       " 'Mouthfeel',\n",
       " '5',\n",
       " 'Flavor',\n",
       " '3',\n",
       " 'Appearance',\n",
       " '5',\n",
       " 'Aroma']"
      ]
     },
     "execution_count": 231,
     "metadata": {},
     "output_type": "execute_result"
    }
   ],
   "source": [
    "# 맥주정보에서 0,1,2,3번째 리스트 요소와 뒤에서부터 10개의 리스트요소(평점값들)추출\n",
    "ttmp['beer_info'] = ttmp['beer_info'].apply(lambda x : x[:3]+x[:-11:-1])\n",
    "\n",
    "# 좋아요 수가 정상적으로 삭제됨\n",
    "ttmp['beer_info'].iloc[0]"
   ]
  },
  {
   "cell_type": "code",
   "execution_count": 232,
   "id": "b342bb8f",
   "metadata": {
    "scrolled": true
   },
   "outputs": [
    {
     "data": {
      "text/plain": [
       "['radagast83(11,719)',\n",
       " '🇺🇸Arlington, United States',\n",
       " '2.3January 2, 2017',\n",
       " '9',\n",
       " 'Overall',\n",
       " '3',\n",
       " 'Mouthfeel',\n",
       " '4',\n",
       " 'Flavor',\n",
       " '3',\n",
       " 'Appearance',\n",
       " '4',\n",
       " 'Aroma']"
      ]
     },
     "execution_count": 232,
     "metadata": {},
     "output_type": "execute_result"
    }
   ],
   "source": [
    "ttmp['beer_info'].iloc[70]"
   ]
  },
  {
   "cell_type": "markdown",
   "id": "a8d08c4a-6cf3-42cd-8b21-5dc4673d4d48",
   "metadata": {},
   "source": [
    "# 각 컬럼에 데이터 저장"
   ]
  },
  {
   "cell_type": "code",
   "execution_count": 233,
   "id": "0965d90b",
   "metadata": {},
   "outputs": [
    {
     "data": {
      "text/html": [
       "<div>\n",
       "<style scoped>\n",
       "    .dataframe tbody tr th:only-of-type {\n",
       "        vertical-align: middle;\n",
       "    }\n",
       "\n",
       "    .dataframe tbody tr th {\n",
       "        vertical-align: top;\n",
       "    }\n",
       "\n",
       "    .dataframe thead th {\n",
       "        text-align: right;\n",
       "    }\n",
       "</style>\n",
       "<table border=\"1\" class=\"dataframe\">\n",
       "  <thead>\n",
       "    <tr style=\"text-align: right;\">\n",
       "      <th></th>\n",
       "      <th>beer_info</th>\n",
       "      <th>검색이름</th>\n",
       "      <th>beer_name</th>\n",
       "      <th>beer_review</th>\n",
       "      <th>ID</th>\n",
       "      <th>Aroma</th>\n",
       "      <th>Appearance</th>\n",
       "      <th>Flavor</th>\n",
       "      <th>Mouthfeel</th>\n",
       "      <th>Overall</th>\n",
       "    </tr>\n",
       "  </thead>\n",
       "  <tbody>\n",
       "    <tr>\n",
       "      <th>0</th>\n",
       "      <td>[🇺🇸Penndel, United States, 2.8September 6, 202...</td>\n",
       "      <td>kloud</td>\n",
       "      <td>Kloud Original Gravity</td>\n",
       "      <td>Clear golden blonde pour with a thin white hea...</td>\n",
       "      <td>italianjohn(5,276)</td>\n",
       "      <td>5</td>\n",
       "      <td>3</td>\n",
       "      <td>5</td>\n",
       "      <td>3</td>\n",
       "      <td>12</td>\n",
       "    </tr>\n",
       "    <tr>\n",
       "      <th>1</th>\n",
       "      <td>[🇺🇸Aurora, United States, 3.9August 29, 2021, 9]</td>\n",
       "      <td>kloud</td>\n",
       "      <td>Kloud Original Gravity</td>\n",
       "      <td>Appearance: golden amber; slight head\\nTaste: ...</td>\n",
       "      <td>orda(284)</td>\n",
       "      <td>10</td>\n",
       "      <td>5</td>\n",
       "      <td>10</td>\n",
       "      <td>5</td>\n",
       "      <td>9</td>\n",
       "    </tr>\n",
       "    <tr>\n",
       "      <th>2</th>\n",
       "      <td>[🇨🇦Toronto (Can) Krotoszyn (Pol), Canada, 2.4J...</td>\n",
       "      <td>kloud</td>\n",
       "      <td>Kloud Original Gravity</td>\n",
       "      <td>Bottle 330 ml \\n\\nAroma: nice, fresh, on dry s...</td>\n",
       "      <td>Radek Kliber(8,065)</td>\n",
       "      <td>6</td>\n",
       "      <td>3</td>\n",
       "      <td>4</td>\n",
       "      <td>2</td>\n",
       "      <td>9</td>\n",
       "    </tr>\n",
       "  </tbody>\n",
       "</table>\n",
       "</div>"
      ],
      "text/plain": [
       "                                           beer_info   검색이름  \\\n",
       "0  [🇺🇸Penndel, United States, 2.8September 6, 202...  kloud   \n",
       "1   [🇺🇸Aurora, United States, 3.9August 29, 2021, 9]  kloud   \n",
       "2  [🇨🇦Toronto (Can) Krotoszyn (Pol), Canada, 2.4J...  kloud   \n",
       "\n",
       "                beer_name                                        beer_review  \\\n",
       "0  Kloud Original Gravity  Clear golden blonde pour with a thin white hea...   \n",
       "1  Kloud Original Gravity  Appearance: golden amber; slight head\\nTaste: ...   \n",
       "2  Kloud Original Gravity  Bottle 330 ml \\n\\nAroma: nice, fresh, on dry s...   \n",
       "\n",
       "                    ID Aroma Appearance Flavor Mouthfeel Overall  \n",
       "0   italianjohn(5,276)     5          3      5         3      12  \n",
       "1            orda(284)    10          5     10         5       9  \n",
       "2  Radek Kliber(8,065)     6          3      4         2       9  "
      ]
     },
     "execution_count": 233,
     "metadata": {},
     "output_type": "execute_result"
    }
   ],
   "source": [
    "# 맨 첫번째 리스트 요소에 ID 저장\n",
    "# 그 뒤로는 뒤에서부터 각 평가값 저장\n",
    "ttmp['ID'] = ttmp['beer_info'].apply(lambda x: x[0])\n",
    "ttmp['Aroma'] = ttmp['beer_info'].apply(lambda x: x[-2])\n",
    "ttmp['Appearance'] = ttmp['beer_info'].apply(lambda x: x[-4])\n",
    "ttmp['Flavor'] = ttmp['beer_info'].apply(lambda x: x[-6])\n",
    "ttmp['Mouthfeel'] = ttmp['beer_info'].apply(lambda x: x[-8])\n",
    "ttmp['Overall'] = ttmp['beer_info'].apply(lambda x: x[-10])\n",
    "\n",
    "# 리스트의 1,2,3번째 요소만(평점날짜 or 이상한 값) 뽑아오기\n",
    "ttmp['beer_info'] = ttmp['beer_info'].apply(lambda x:x[1:4])\n",
    "#ttmp['길이'] = ttmp['맥주정보'].apply(lambda x:len(x))\n",
    "\n",
    "# 결과 확인\n",
    "ttmp.head(3)"
   ]
  },
  {
   "cell_type": "code",
   "execution_count": 234,
   "id": "5aefc7c0",
   "metadata": {},
   "outputs": [
    {
     "name": "stdout",
     "output_type": "stream",
     "text": [
      "['🇬🇧Edinburgh, Scotland', '3.1April 4, 2013', '12'] \n",
      "\n",
      "\n",
      "['🇺🇸St. Charles, United States', '3.4April 4, 2013', '13'] \n",
      "\n",
      "\n",
      "['🇫🇷Grenoble, France', '3.0April 3, 2013', '14'] \n",
      "\n",
      "\n"
     ]
    }
   ],
   "source": [
    "# 특이점 확인 : 0번째, 1번째, 2번째 요소 중 뽑아낼 데이터의 위치가 불분명\n",
    "for i in range(75252, 75255):\n",
    "    print(ttmp['beer_info'].iloc[i], '\\n\\n')"
   ]
  },
  {
   "cell_type": "code",
   "execution_count": 235,
   "id": "6274fa6b",
   "metadata": {},
   "outputs": [],
   "source": [
    "# 4.0+알파벳으로 처리된 텍스트를 뽑아내기 위해 정규표현식 사용\n",
    "\n",
    "import re\n",
    "\n",
    "# ex) 4.0December 28, 2020 추출\n",
    "reg = re.compile('[0-9]+.+[0-9]+[A-Za-z0-9]*')"
   ]
  },
  {
   "cell_type": "code",
   "execution_count": 236,
   "id": "05f41f2b",
   "metadata": {},
   "outputs": [
    {
     "data": {
      "text/html": [
       "<div>\n",
       "<style scoped>\n",
       "    .dataframe tbody tr th:only-of-type {\n",
       "        vertical-align: middle;\n",
       "    }\n",
       "\n",
       "    .dataframe tbody tr th {\n",
       "        vertical-align: top;\n",
       "    }\n",
       "\n",
       "    .dataframe thead th {\n",
       "        text-align: right;\n",
       "    }\n",
       "</style>\n",
       "<table border=\"1\" class=\"dataframe\">\n",
       "  <thead>\n",
       "    <tr style=\"text-align: right;\">\n",
       "      <th></th>\n",
       "      <th>beer_info</th>\n",
       "      <th>검색이름</th>\n",
       "      <th>beer_name</th>\n",
       "      <th>beer_review</th>\n",
       "      <th>ID</th>\n",
       "      <th>Aroma</th>\n",
       "      <th>Appearance</th>\n",
       "      <th>Flavor</th>\n",
       "      <th>Mouthfeel</th>\n",
       "      <th>Overall</th>\n",
       "    </tr>\n",
       "  </thead>\n",
       "  <tbody>\n",
       "    <tr>\n",
       "      <th>0</th>\n",
       "      <td>2.8September 6, 2021</td>\n",
       "      <td>kloud</td>\n",
       "      <td>Kloud Original Gravity</td>\n",
       "      <td>Clear golden blonde pour with a thin white hea...</td>\n",
       "      <td>italianjohn(5,276)</td>\n",
       "      <td>5</td>\n",
       "      <td>3</td>\n",
       "      <td>5</td>\n",
       "      <td>3</td>\n",
       "      <td>12</td>\n",
       "    </tr>\n",
       "    <tr>\n",
       "      <th>1</th>\n",
       "      <td>3.9August 29, 2021</td>\n",
       "      <td>kloud</td>\n",
       "      <td>Kloud Original Gravity</td>\n",
       "      <td>Appearance: golden amber; slight head\\nTaste: ...</td>\n",
       "      <td>orda(284)</td>\n",
       "      <td>10</td>\n",
       "      <td>5</td>\n",
       "      <td>10</td>\n",
       "      <td>5</td>\n",
       "      <td>9</td>\n",
       "    </tr>\n",
       "    <tr>\n",
       "      <th>2</th>\n",
       "      <td>2.4June 5, 2021</td>\n",
       "      <td>kloud</td>\n",
       "      <td>Kloud Original Gravity</td>\n",
       "      <td>Bottle 330 ml \\n\\nAroma: nice, fresh, on dry s...</td>\n",
       "      <td>Radek Kliber(8,065)</td>\n",
       "      <td>6</td>\n",
       "      <td>3</td>\n",
       "      <td>4</td>\n",
       "      <td>2</td>\n",
       "      <td>9</td>\n",
       "    </tr>\n",
       "    <tr>\n",
       "      <th>3</th>\n",
       "      <td>2.3May 26, 2021</td>\n",
       "      <td>kloud</td>\n",
       "      <td>Kloud Original Gravity</td>\n",
       "      <td>Smell is light of malt...taste is a that malt ...</td>\n",
       "      <td>geologyguy(2,575)</td>\n",
       "      <td>4</td>\n",
       "      <td>3</td>\n",
       "      <td>4</td>\n",
       "      <td>3</td>\n",
       "      <td>9</td>\n",
       "    </tr>\n",
       "    <tr>\n",
       "      <th>4</th>\n",
       "      <td>1.0February 16, 2021</td>\n",
       "      <td>kloud</td>\n",
       "      <td>Kloud Original Gravity</td>\n",
       "      <td>Rating copied from Untappd. Had while flying A...</td>\n",
       "      <td>Wolff90(203)</td>\n",
       "      <td>1</td>\n",
       "      <td>1</td>\n",
       "      <td>1</td>\n",
       "      <td>1</td>\n",
       "      <td>6</td>\n",
       "    </tr>\n",
       "  </tbody>\n",
       "</table>\n",
       "</div>"
      ],
      "text/plain": [
       "              beer_info   검색이름               beer_name  \\\n",
       "0  2.8September 6, 2021  kloud  Kloud Original Gravity   \n",
       "1    3.9August 29, 2021  kloud  Kloud Original Gravity   \n",
       "2       2.4June 5, 2021  kloud  Kloud Original Gravity   \n",
       "3       2.3May 26, 2021  kloud  Kloud Original Gravity   \n",
       "4  1.0February 16, 2021  kloud  Kloud Original Gravity   \n",
       "\n",
       "                                         beer_review                   ID  \\\n",
       "0  Clear golden blonde pour with a thin white hea...   italianjohn(5,276)   \n",
       "1  Appearance: golden amber; slight head\\nTaste: ...            orda(284)   \n",
       "2  Bottle 330 ml \\n\\nAroma: nice, fresh, on dry s...  Radek Kliber(8,065)   \n",
       "3  Smell is light of malt...taste is a that malt ...    geologyguy(2,575)   \n",
       "4  Rating copied from Untappd. Had while flying A...         Wolff90(203)   \n",
       "\n",
       "  Aroma Appearance Flavor Mouthfeel Overall  \n",
       "0     5          3      5         3      12  \n",
       "1    10          5     10         5       9  \n",
       "2     6          3      4         2       9  \n",
       "3     4          3      4         3       9  \n",
       "4     1          1      1         1       6  "
      ]
     },
     "execution_count": 236,
     "metadata": {},
     "output_type": "execute_result"
    }
   ],
   "source": [
    "# 정규표현식에 해당하는 문자열과 매칭되는 경우 해당 리스트 요소를 맥주정보에 저장\n",
    "# reg.match()는 re.compile()의 정규표현식과 일치하는 문자열을 반환, 아니면 False를 반환\n",
    "# 중첩 삼항 표현식 사용 : https://ooyoung.tistory.com/116\n",
    "\n",
    "ttmp['beer_info'] = ttmp['beer_info'].apply(lambda x: x[0] if reg.match(x[0]) else \n",
    "                                  (x[1] if reg.match(x[1]) else x[2]))\n",
    "\n",
    "# 결과 확인\n",
    "ttmp.head()"
   ]
  },
  {
   "cell_type": "code",
   "execution_count": 237,
   "id": "26415a08",
   "metadata": {},
   "outputs": [
    {
     "data": {
      "text/html": [
       "<div>\n",
       "<style scoped>\n",
       "    .dataframe tbody tr th:only-of-type {\n",
       "        vertical-align: middle;\n",
       "    }\n",
       "\n",
       "    .dataframe tbody tr th {\n",
       "        vertical-align: top;\n",
       "    }\n",
       "\n",
       "    .dataframe thead th {\n",
       "        text-align: right;\n",
       "    }\n",
       "</style>\n",
       "<table border=\"1\" class=\"dataframe\">\n",
       "  <thead>\n",
       "    <tr style=\"text-align: right;\">\n",
       "      <th></th>\n",
       "      <th>beer_info</th>\n",
       "      <th>검색이름</th>\n",
       "      <th>beer_name</th>\n",
       "      <th>beer_review</th>\n",
       "      <th>ID</th>\n",
       "      <th>Aroma</th>\n",
       "      <th>Appearance</th>\n",
       "      <th>Flavor</th>\n",
       "      <th>Mouthfeel</th>\n",
       "      <th>Overall</th>\n",
       "      <th>grade</th>\n",
       "      <th>date</th>\n",
       "    </tr>\n",
       "  </thead>\n",
       "  <tbody>\n",
       "    <tr>\n",
       "      <th>0</th>\n",
       "      <td>2.8September 6, 2021</td>\n",
       "      <td>kloud</td>\n",
       "      <td>Kloud Original Gravity</td>\n",
       "      <td>Clear golden blonde pour with a thin white hea...</td>\n",
       "      <td>italianjohn(5,276)</td>\n",
       "      <td>5</td>\n",
       "      <td>3</td>\n",
       "      <td>5</td>\n",
       "      <td>3</td>\n",
       "      <td>12</td>\n",
       "      <td>2.8</td>\n",
       "      <td>September 6, 2021</td>\n",
       "    </tr>\n",
       "    <tr>\n",
       "      <th>1</th>\n",
       "      <td>3.9August 29, 2021</td>\n",
       "      <td>kloud</td>\n",
       "      <td>Kloud Original Gravity</td>\n",
       "      <td>Appearance: golden amber; slight head\\nTaste: ...</td>\n",
       "      <td>orda(284)</td>\n",
       "      <td>10</td>\n",
       "      <td>5</td>\n",
       "      <td>10</td>\n",
       "      <td>5</td>\n",
       "      <td>9</td>\n",
       "      <td>3.9</td>\n",
       "      <td>August 29, 2021</td>\n",
       "    </tr>\n",
       "    <tr>\n",
       "      <th>2</th>\n",
       "      <td>2.4June 5, 2021</td>\n",
       "      <td>kloud</td>\n",
       "      <td>Kloud Original Gravity</td>\n",
       "      <td>Bottle 330 ml \\n\\nAroma: nice, fresh, on dry s...</td>\n",
       "      <td>Radek Kliber(8,065)</td>\n",
       "      <td>6</td>\n",
       "      <td>3</td>\n",
       "      <td>4</td>\n",
       "      <td>2</td>\n",
       "      <td>9</td>\n",
       "      <td>2.4</td>\n",
       "      <td>June 5, 2021</td>\n",
       "    </tr>\n",
       "  </tbody>\n",
       "</table>\n",
       "</div>"
      ],
      "text/plain": [
       "              beer_info   검색이름               beer_name  \\\n",
       "0  2.8September 6, 2021  kloud  Kloud Original Gravity   \n",
       "1    3.9August 29, 2021  kloud  Kloud Original Gravity   \n",
       "2       2.4June 5, 2021  kloud  Kloud Original Gravity   \n",
       "\n",
       "                                         beer_review                   ID  \\\n",
       "0  Clear golden blonde pour with a thin white hea...   italianjohn(5,276)   \n",
       "1  Appearance: golden amber; slight head\\nTaste: ...            orda(284)   \n",
       "2  Bottle 330 ml \\n\\nAroma: nice, fresh, on dry s...  Radek Kliber(8,065)   \n",
       "\n",
       "  Aroma Appearance Flavor Mouthfeel Overall grade               date  \n",
       "0     5          3      5         3      12   2.8  September 6, 2021  \n",
       "1    10          5     10         5       9   3.9    August 29, 2021  \n",
       "2     6          3      4         2       9   2.4       June 5, 2021  "
      ]
     },
     "execution_count": 237,
     "metadata": {},
     "output_type": "execute_result"
    }
   ],
   "source": [
    "# 평점은 0번째부터 3번째, 날짜는 그 이후 문자열로 처리\n",
    "ttmp['grade'] = ttmp['beer_info'].apply(lambda x : x[:3])\n",
    "ttmp['date'] = ttmp['beer_info'].apply(lambda x : x[3:])\n",
    "\n",
    "ttmp.head(3)"
   ]
  },
  {
   "cell_type": "code",
   "execution_count": 238,
   "id": "c0a0b452",
   "metadata": {},
   "outputs": [],
   "source": [
    "# 컬럼명 변경\n",
    "#ttmp.columns = ['beer_info', '검색이름', 'beer_name', 'beer_review', 'ID', 'Aroma', 'Appearance',\n",
    "       #'Flavor', 'Overall', 'grade', 'date']\n",
    "\n",
    "# 필요한 컬럼만 추출\n",
    "ttmp = ttmp[['ID', 'beer_name', 'date', 'grade', 'Aroma', 'Appearance', 'Flavor',\n",
    "       'Mouthfeel', 'Overall', 'beer_review']]"
   ]
  },
  {
   "cell_type": "code",
   "execution_count": 239,
   "id": "82a5ae58",
   "metadata": {},
   "outputs": [
    {
     "data": {
      "text/plain": [
       "Index(['ID', 'beer_name', 'date', 'grade', 'Aroma', 'Appearance', 'Flavor',\n",
       "       'Mouthfeel', 'Overall', 'beer_review'],\n",
       "      dtype='object')"
      ]
     },
     "execution_count": 239,
     "metadata": {},
     "output_type": "execute_result"
    }
   ],
   "source": [
    "ttmp.columns"
   ]
  },
  {
   "cell_type": "code",
   "execution_count": 240,
   "id": "829e6a3f",
   "metadata": {
    "scrolled": true
   },
   "outputs": [
    {
     "data": {
      "text/html": [
       "<div>\n",
       "<style scoped>\n",
       "    .dataframe tbody tr th:only-of-type {\n",
       "        vertical-align: middle;\n",
       "    }\n",
       "\n",
       "    .dataframe tbody tr th {\n",
       "        vertical-align: top;\n",
       "    }\n",
       "\n",
       "    .dataframe thead th {\n",
       "        text-align: right;\n",
       "    }\n",
       "</style>\n",
       "<table border=\"1\" class=\"dataframe\">\n",
       "  <thead>\n",
       "    <tr style=\"text-align: right;\">\n",
       "      <th></th>\n",
       "      <th>ID</th>\n",
       "      <th>beer_name</th>\n",
       "      <th>date</th>\n",
       "      <th>grade</th>\n",
       "      <th>Aroma</th>\n",
       "      <th>Appearance</th>\n",
       "      <th>Flavor</th>\n",
       "      <th>Mouthfeel</th>\n",
       "      <th>Overall</th>\n",
       "      <th>beer_review</th>\n",
       "    </tr>\n",
       "  </thead>\n",
       "  <tbody>\n",
       "    <tr>\n",
       "      <th>0</th>\n",
       "      <td>italianjohn(5,276)</td>\n",
       "      <td>Kloud Original Gravity</td>\n",
       "      <td>September 6, 2021</td>\n",
       "      <td>2.8</td>\n",
       "      <td>5</td>\n",
       "      <td>3</td>\n",
       "      <td>5</td>\n",
       "      <td>3</td>\n",
       "      <td>12</td>\n",
       "      <td>Clear golden blonde pour with a thin white hea...</td>\n",
       "    </tr>\n",
       "    <tr>\n",
       "      <th>1</th>\n",
       "      <td>orda(284)</td>\n",
       "      <td>Kloud Original Gravity</td>\n",
       "      <td>August 29, 2021</td>\n",
       "      <td>3.9</td>\n",
       "      <td>10</td>\n",
       "      <td>5</td>\n",
       "      <td>10</td>\n",
       "      <td>5</td>\n",
       "      <td>9</td>\n",
       "      <td>Appearance: golden amber; slight head\\nTaste: ...</td>\n",
       "    </tr>\n",
       "    <tr>\n",
       "      <th>2</th>\n",
       "      <td>Radek Kliber(8,065)</td>\n",
       "      <td>Kloud Original Gravity</td>\n",
       "      <td>June 5, 2021</td>\n",
       "      <td>2.4</td>\n",
       "      <td>6</td>\n",
       "      <td>3</td>\n",
       "      <td>4</td>\n",
       "      <td>2</td>\n",
       "      <td>9</td>\n",
       "      <td>Bottle 330 ml \\n\\nAroma: nice, fresh, on dry s...</td>\n",
       "    </tr>\n",
       "    <tr>\n",
       "      <th>3</th>\n",
       "      <td>geologyguy(2,575)</td>\n",
       "      <td>Kloud Original Gravity</td>\n",
       "      <td>May 26, 2021</td>\n",
       "      <td>2.3</td>\n",
       "      <td>4</td>\n",
       "      <td>3</td>\n",
       "      <td>4</td>\n",
       "      <td>3</td>\n",
       "      <td>9</td>\n",
       "      <td>Smell is light of malt...taste is a that malt ...</td>\n",
       "    </tr>\n",
       "    <tr>\n",
       "      <th>4</th>\n",
       "      <td>Wolff90(203)</td>\n",
       "      <td>Kloud Original Gravity</td>\n",
       "      <td>February 16, 2021</td>\n",
       "      <td>1.0</td>\n",
       "      <td>1</td>\n",
       "      <td>1</td>\n",
       "      <td>1</td>\n",
       "      <td>1</td>\n",
       "      <td>6</td>\n",
       "      <td>Rating copied from Untappd. Had while flying A...</td>\n",
       "    </tr>\n",
       "    <tr>\n",
       "      <th>...</th>\n",
       "      <td>...</td>\n",
       "      <td>...</td>\n",
       "      <td>...</td>\n",
       "      <td>...</td>\n",
       "      <td>...</td>\n",
       "      <td>...</td>\n",
       "      <td>...</td>\n",
       "      <td>...</td>\n",
       "      <td>...</td>\n",
       "      <td>...</td>\n",
       "    </tr>\n",
       "    <tr>\n",
       "      <th>35</th>\n",
       "      <td>bourne(161)</td>\n",
       "      <td>Cafri</td>\n",
       "      <td>March 21, 2006</td>\n",
       "      <td>1.3</td>\n",
       "      <td>2</td>\n",
       "      <td>2</td>\n",
       "      <td>3</td>\n",
       "      <td>2</td>\n",
       "      <td>4</td>\n",
       "      <td>I didnt think this was beer when I bought it. ...</td>\n",
       "    </tr>\n",
       "    <tr>\n",
       "      <th>36</th>\n",
       "      <td>curvedbeer(11)</td>\n",
       "      <td>Cafri</td>\n",
       "      <td>November 6, 2005</td>\n",
       "      <td>1.0</td>\n",
       "      <td>2</td>\n",
       "      <td>3</td>\n",
       "      <td>1</td>\n",
       "      <td>1</td>\n",
       "      <td>3</td>\n",
       "      <td>Of all of the commercially brewed beers I’ve t...</td>\n",
       "    </tr>\n",
       "    <tr>\n",
       "      <th>37</th>\n",
       "      <td>tomciccateri(1,033)</td>\n",
       "      <td>Cafri</td>\n",
       "      <td>September 5, 2007</td>\n",
       "      <td>2.2</td>\n",
       "      <td>3</td>\n",
       "      <td>3</td>\n",
       "      <td>4</td>\n",
       "      <td>2</td>\n",
       "      <td>10</td>\n",
       "      <td>From a can onboard a KAL flight. 4.2%, with no...</td>\n",
       "    </tr>\n",
       "    <tr>\n",
       "      <th>38</th>\n",
       "      <td>Papsoe(25,039)</td>\n",
       "      <td>Cafri</td>\n",
       "      <td>June 13, 2005</td>\n",
       "      <td>2.1</td>\n",
       "      <td>5</td>\n",
       "      <td>2</td>\n",
       "      <td>4</td>\n",
       "      <td>2</td>\n",
       "      <td>8</td>\n",
       "      <td>(Bottle 48 cl) Again - for Korea - this beauti...</td>\n",
       "    </tr>\n",
       "    <tr>\n",
       "      <th>39</th>\n",
       "      <td>MrRomero(1,976)</td>\n",
       "      <td>Cafri</td>\n",
       "      <td>March 21, 2004</td>\n",
       "      <td>1.7</td>\n",
       "      <td>3</td>\n",
       "      <td>2</td>\n",
       "      <td>3</td>\n",
       "      <td>2</td>\n",
       "      <td>7</td>\n",
       "      <td>Probably my favorite Korean beer but not as av...</td>\n",
       "    </tr>\n",
       "  </tbody>\n",
       "</table>\n",
       "<p>83191 rows × 10 columns</p>\n",
       "</div>"
      ],
      "text/plain": [
       "                     ID               beer_name               date grade  \\\n",
       "0    italianjohn(5,276)  Kloud Original Gravity  September 6, 2021   2.8   \n",
       "1             orda(284)  Kloud Original Gravity    August 29, 2021   3.9   \n",
       "2   Radek Kliber(8,065)  Kloud Original Gravity       June 5, 2021   2.4   \n",
       "3     geologyguy(2,575)  Kloud Original Gravity       May 26, 2021   2.3   \n",
       "4          Wolff90(203)  Kloud Original Gravity  February 16, 2021   1.0   \n",
       "..                  ...                     ...                ...   ...   \n",
       "35          bourne(161)                   Cafri     March 21, 2006   1.3   \n",
       "36       curvedbeer(11)                   Cafri   November 6, 2005   1.0   \n",
       "37  tomciccateri(1,033)                   Cafri  September 5, 2007   2.2   \n",
       "38       Papsoe(25,039)                   Cafri      June 13, 2005   2.1   \n",
       "39      MrRomero(1,976)                   Cafri     March 21, 2004   1.7   \n",
       "\n",
       "   Aroma Appearance Flavor Mouthfeel Overall  \\\n",
       "0      5          3      5         3      12   \n",
       "1     10          5     10         5       9   \n",
       "2      6          3      4         2       9   \n",
       "3      4          3      4         3       9   \n",
       "4      1          1      1         1       6   \n",
       "..   ...        ...    ...       ...     ...   \n",
       "35     2          2      3         2       4   \n",
       "36     2          3      1         1       3   \n",
       "37     3          3      4         2      10   \n",
       "38     5          2      4         2       8   \n",
       "39     3          2      3         2       7   \n",
       "\n",
       "                                          beer_review  \n",
       "0   Clear golden blonde pour with a thin white hea...  \n",
       "1   Appearance: golden amber; slight head\\nTaste: ...  \n",
       "2   Bottle 330 ml \\n\\nAroma: nice, fresh, on dry s...  \n",
       "3   Smell is light of malt...taste is a that malt ...  \n",
       "4   Rating copied from Untappd. Had while flying A...  \n",
       "..                                                ...  \n",
       "35  I didnt think this was beer when I bought it. ...  \n",
       "36  Of all of the commercially brewed beers I’ve t...  \n",
       "37  From a can onboard a KAL flight. 4.2%, with no...  \n",
       "38  (Bottle 48 cl) Again - for Korea - this beauti...  \n",
       "39  Probably my favorite Korean beer but not as av...  \n",
       "\n",
       "[83191 rows x 10 columns]"
      ]
     },
     "execution_count": 240,
     "metadata": {},
     "output_type": "execute_result"
    }
   ],
   "source": [
    "ttmp"
   ]
  },
  {
   "cell_type": "code",
   "execution_count": 249,
   "id": "d152b813",
   "metadata": {},
   "outputs": [
    {
     "data": {
      "text/html": [
       "<div>\n",
       "<style scoped>\n",
       "    .dataframe tbody tr th:only-of-type {\n",
       "        vertical-align: middle;\n",
       "    }\n",
       "\n",
       "    .dataframe tbody tr th {\n",
       "        vertical-align: top;\n",
       "    }\n",
       "\n",
       "    .dataframe thead th {\n",
       "        text-align: right;\n",
       "    }\n",
       "</style>\n",
       "<table border=\"1\" class=\"dataframe\">\n",
       "  <thead>\n",
       "    <tr style=\"text-align: right;\">\n",
       "      <th></th>\n",
       "      <th>ID</th>\n",
       "      <th>beer_name</th>\n",
       "      <th>date</th>\n",
       "      <th>grade</th>\n",
       "      <th>Aroma</th>\n",
       "      <th>Appearance</th>\n",
       "      <th>Flavor</th>\n",
       "      <th>Mouthfeel</th>\n",
       "      <th>Overall</th>\n",
       "      <th>beer_review</th>\n",
       "    </tr>\n",
       "  </thead>\n",
       "  <tbody>\n",
       "    <tr>\n",
       "      <th>174</th>\n",
       "      <td>jann3(820)</td>\n",
       "      <td>Berliner Kindl Jubiläums Pilsener Premium</td>\n",
       "      <td>tober 12, 2022</td>\n",
       "      <td>0Oc</td>\n",
       "      <td>-</td>\n",
       "      <td>-</td>\n",
       "      <td>-</td>\n",
       "      <td>-</td>\n",
       "      <td>-</td>\n",
       "      <td>Revisiting an old acquaintance and updating my...</td>\n",
       "    </tr>\n",
       "  </tbody>\n",
       "</table>\n",
       "</div>"
      ],
      "text/plain": [
       "             ID                                  beer_name            date  \\\n",
       "174  jann3(820)  Berliner Kindl Jubiläums Pilsener Premium  tober 12, 2022   \n",
       "\n",
       "    grade Aroma Appearance Flavor Mouthfeel Overall  \\\n",
       "174   0Oc     -          -      -         -       -   \n",
       "\n",
       "                                           beer_review  \n",
       "174  Revisiting an old acquaintance and updating my...  "
      ]
     },
     "execution_count": 249,
     "metadata": {},
     "output_type": "execute_result"
    }
   ],
   "source": [
    "# grade 이상한 값 확인\n",
    "ttmp[ttmp['grade'].str.contains('0Oc')]"
   ]
  },
  {
   "cell_type": "code",
   "execution_count": 265,
   "id": "5d2b7049",
   "metadata": {},
   "outputs": [
    {
     "data": {
      "text/plain": [
       "23078"
      ]
     },
     "execution_count": 265,
     "metadata": {},
     "output_type": "execute_result"
    }
   ],
   "source": [
    "# grade 이상한 값 확인\n",
    "ttmp[ttmp['grade'].str.contains('0Ma')]['grade'].index[0]"
   ]
  },
  {
   "cell_type": "code",
   "execution_count": 263,
   "id": "a984c88e",
   "metadata": {},
   "outputs": [],
   "source": [
    "# index reset\n",
    "ttmp.reset_index(drop = True, inplace = True)"
   ]
  },
  {
   "cell_type": "code",
   "execution_count": 270,
   "id": "0f4ac16d",
   "metadata": {},
   "outputs": [],
   "source": [
    "ttmp.iloc[23078]['grade'] = 0.0"
   ]
  },
  {
   "cell_type": "code",
   "execution_count": 267,
   "id": "9da633db",
   "metadata": {},
   "outputs": [
    {
     "data": {
      "text/plain": [
       "23078    0Ma\n",
       "Name: grade, dtype: object"
      ]
     },
     "execution_count": 267,
     "metadata": {},
     "output_type": "execute_result"
    }
   ],
   "source": [
    "ttmp[ttmp['grade'].str.contains('0Ma')]['grade']"
   ]
  },
  {
   "cell_type": "code",
   "execution_count": 279,
   "id": "fd582844",
   "metadata": {},
   "outputs": [],
   "source": [
    "ttmp.iloc[ttmp[ttmp['grade'] == '0Oc'].index[0]] = 0.0"
   ]
  },
  {
   "cell_type": "code",
   "execution_count": 277,
   "id": "c7d79b0c",
   "metadata": {},
   "outputs": [
    {
     "ename": "ValueError",
     "evalue": "Cannot mask with non-boolean array containing NA / NaN values",
     "output_type": "error",
     "traceback": [
      "\u001b[1;31m---------------------------------------------------------------------------\u001b[0m",
      "\u001b[1;31mValueError\u001b[0m                                Traceback (most recent call last)",
      "Input \u001b[1;32mIn [277]\u001b[0m, in \u001b[0;36m<cell line: 1>\u001b[1;34m()\u001b[0m\n\u001b[1;32m----> 1\u001b[0m \u001b[43mttmp\u001b[49m\u001b[43m[\u001b[49m\u001b[43mttmp\u001b[49m\u001b[43m[\u001b[49m\u001b[38;5;124;43m'\u001b[39;49m\u001b[38;5;124;43mgrade\u001b[39;49m\u001b[38;5;124;43m'\u001b[39;49m\u001b[43m]\u001b[49m\u001b[38;5;241;43m.\u001b[39;49m\u001b[43mstr\u001b[49m\u001b[38;5;241;43m.\u001b[39;49m\u001b[43mcontains\u001b[49m\u001b[43m(\u001b[49m\u001b[38;5;124;43m'\u001b[39;49m\u001b[38;5;124;43m0Oc\u001b[39;49m\u001b[38;5;124;43m'\u001b[39;49m\u001b[43m)\u001b[49m\u001b[43m]\u001b[49m\n",
      "File \u001b[1;32mC:\\ProgramData\\Anaconda3\\lib\\site-packages\\pandas\\core\\frame.py:3495\u001b[0m, in \u001b[0;36mDataFrame.__getitem__\u001b[1;34m(self, key)\u001b[0m\n\u001b[0;32m   3492\u001b[0m     \u001b[38;5;28;01mreturn\u001b[39;00m \u001b[38;5;28mself\u001b[39m\u001b[38;5;241m.\u001b[39mwhere(key)\n\u001b[0;32m   3494\u001b[0m \u001b[38;5;66;03m# Do we have a (boolean) 1d indexer?\u001b[39;00m\n\u001b[1;32m-> 3495\u001b[0m \u001b[38;5;28;01mif\u001b[39;00m \u001b[43mcom\u001b[49m\u001b[38;5;241;43m.\u001b[39;49m\u001b[43mis_bool_indexer\u001b[49m\u001b[43m(\u001b[49m\u001b[43mkey\u001b[49m\u001b[43m)\u001b[49m:\n\u001b[0;32m   3496\u001b[0m     \u001b[38;5;28;01mreturn\u001b[39;00m \u001b[38;5;28mself\u001b[39m\u001b[38;5;241m.\u001b[39m_getitem_bool_array(key)\n\u001b[0;32m   3498\u001b[0m \u001b[38;5;66;03m# We are left with two options: a single key, and a collection of keys,\u001b[39;00m\n\u001b[0;32m   3499\u001b[0m \u001b[38;5;66;03m# We interpret tuples as collections only for non-MultiIndex\u001b[39;00m\n",
      "File \u001b[1;32mC:\\ProgramData\\Anaconda3\\lib\\site-packages\\pandas\\core\\common.py:144\u001b[0m, in \u001b[0;36mis_bool_indexer\u001b[1;34m(key)\u001b[0m\n\u001b[0;32m    140\u001b[0m     na_msg \u001b[38;5;241m=\u001b[39m \u001b[38;5;124m\"\u001b[39m\u001b[38;5;124mCannot mask with non-boolean array containing NA / NaN values\u001b[39m\u001b[38;5;124m\"\u001b[39m\n\u001b[0;32m    141\u001b[0m     \u001b[38;5;28;01mif\u001b[39;00m lib\u001b[38;5;241m.\u001b[39minfer_dtype(key) \u001b[38;5;241m==\u001b[39m \u001b[38;5;124m\"\u001b[39m\u001b[38;5;124mboolean\u001b[39m\u001b[38;5;124m\"\u001b[39m \u001b[38;5;129;01mand\u001b[39;00m isna(key)\u001b[38;5;241m.\u001b[39many():\n\u001b[0;32m    142\u001b[0m         \u001b[38;5;66;03m# Don't raise on e.g. [\"A\", \"B\", np.nan], see\u001b[39;00m\n\u001b[0;32m    143\u001b[0m         \u001b[38;5;66;03m#  test_loc_getitem_list_of_labels_categoricalindex_with_na\u001b[39;00m\n\u001b[1;32m--> 144\u001b[0m         \u001b[38;5;28;01mraise\u001b[39;00m \u001b[38;5;167;01mValueError\u001b[39;00m(na_msg)\n\u001b[0;32m    145\u001b[0m     \u001b[38;5;28;01mreturn\u001b[39;00m \u001b[38;5;28;01mFalse\u001b[39;00m\n\u001b[0;32m    146\u001b[0m \u001b[38;5;28;01mreturn\u001b[39;00m \u001b[38;5;28;01mTrue\u001b[39;00m\n",
      "\u001b[1;31mValueError\u001b[0m: Cannot mask with non-boolean array containing NA / NaN values"
     ]
    }
   ],
   "source": [
    "ttmp[ttmp['grade'].str.contains('0Oc')]"
   ]
  },
  {
   "cell_type": "code",
   "execution_count": 253,
   "id": "ca584a71",
   "metadata": {},
   "outputs": [
    {
     "data": {
      "text/plain": [
       "0     2.8\n",
       "1     3.9\n",
       "2     2.4\n",
       "3     2.3\n",
       "4     1.0\n",
       "     ... \n",
       "35    1.3\n",
       "36    1.0\n",
       "37    2.2\n",
       "38    2.1\n",
       "39    1.7\n",
       "Name: grade, Length: 83191, dtype: object"
      ]
     },
     "execution_count": 253,
     "metadata": {},
     "output_type": "execute_result"
    }
   ],
   "source": [
    "ttmp['grade'] "
   ]
  },
  {
   "cell_type": "code",
   "execution_count": 242,
   "id": "5e25918a",
   "metadata": {},
   "outputs": [
    {
     "data": {
      "text/plain": [
       "49"
      ]
     },
     "execution_count": 242,
     "metadata": {},
     "output_type": "execute_result"
    }
   ],
   "source": [
    "len(ttmp.grade.unique())"
   ]
  },
  {
   "cell_type": "code",
   "execution_count": 280,
   "id": "d4b5ad88",
   "metadata": {},
   "outputs": [
    {
     "data": {
      "text/plain": [
       "array(['2.8', '3.9', '2.4', '2.3', '1.0', '4.0', '2.0', '3.0', '2.9',\n",
       "       '2.2', '3.2', '2.5', '2.7', '1.5', '3.1', '2.6', '1.7', '1.8',\n",
       "       '0.5', '1.6', '1.9', '2.1', '0.9', '1.3', '0.8', '1.1', '5.0',\n",
       "       '0.7', '4.7', '3.3', '1.4', '3.6', '3.4', '3.5', '3.8', '3.7',\n",
       "       '4.2', '1.2', '4.5', '4.3', '0.6', '4.6', '4.1', '4.4', '4.8',\n",
       "       '4.9', '15', 0.0], dtype=object)"
      ]
     },
     "execution_count": 280,
     "metadata": {},
     "output_type": "execute_result"
    }
   ],
   "source": [
    "ttmp.grade.unique()"
   ]
  },
  {
   "cell_type": "code",
   "execution_count": null,
   "id": "8be801f2",
   "metadata": {},
   "outputs": [],
   "source": [
    "ttmp[ttmp['Aroma'].str.contains('Appearance')]"
   ]
  },
  {
   "cell_type": "code",
   "execution_count": 244,
   "id": "2f1d50c3",
   "metadata": {},
   "outputs": [
    {
     "data": {
      "text/plain": [
       "array(['5', '10', '6', '4', '1', '9', '3', '-', '7', '2', '8'],\n",
       "      dtype=object)"
      ]
     },
     "execution_count": 244,
     "metadata": {},
     "output_type": "execute_result"
    }
   ],
   "source": [
    "# aroma 이상한 값 확인\n",
    "ttmp.Aroma.unique()"
   ]
  },
  {
   "cell_type": "code",
   "execution_count": 245,
   "id": "b294c0ae",
   "metadata": {},
   "outputs": [
    {
     "data": {
      "text/plain": [
       "array(['5', '10', '4', '1', '7', '6', '-', '2', '3', '8', '9'],\n",
       "      dtype=object)"
      ]
     },
     "execution_count": 245,
     "metadata": {},
     "output_type": "execute_result"
    }
   ],
   "source": [
    "# flavor 이상한 값 확인\n",
    "ttmp.Flavor.unique()"
   ]
  },
  {
   "cell_type": "code",
   "execution_count": 247,
   "id": "f73c89c6",
   "metadata": {},
   "outputs": [
    {
     "data": {
      "text/plain": [
       "array(['3', '5', '2', '1', '4', '-'], dtype=object)"
      ]
     },
     "execution_count": 247,
     "metadata": {},
     "output_type": "execute_result"
    }
   ],
   "source": [
    "# mouthfeel 이상한 값 확인\n",
    "ttmp.Mouthfeel.unique()"
   ]
  },
  {
   "cell_type": "code",
   "execution_count": 248,
   "id": "d573c541",
   "metadata": {},
   "outputs": [
    {
     "data": {
      "text/plain": [
       "array(['12', '9', '6', '15', '7', '11', '10', '-', '8', '4', '13', '5',\n",
       "       '1', '3', '14', '20', '2', '16', '17', '18', '19'], dtype=object)"
      ]
     },
     "execution_count": 248,
     "metadata": {},
     "output_type": "execute_result"
    }
   ],
   "source": [
    "# overall 이상한 값 확인\n",
    "ttmp.Overall.unique()"
   ]
  },
  {
   "cell_type": "code",
   "execution_count": 281,
   "id": "a5893028",
   "metadata": {},
   "outputs": [
    {
     "data": {
      "text/html": [
       "<div>\n",
       "<style scoped>\n",
       "    .dataframe tbody tr th:only-of-type {\n",
       "        vertical-align: middle;\n",
       "    }\n",
       "\n",
       "    .dataframe tbody tr th {\n",
       "        vertical-align: top;\n",
       "    }\n",
       "\n",
       "    .dataframe thead th {\n",
       "        text-align: right;\n",
       "    }\n",
       "</style>\n",
       "<table border=\"1\" class=\"dataframe\">\n",
       "  <thead>\n",
       "    <tr style=\"text-align: right;\">\n",
       "      <th></th>\n",
       "      <th>ID</th>\n",
       "      <th>beer_name</th>\n",
       "      <th>date</th>\n",
       "      <th>grade</th>\n",
       "      <th>Aroma</th>\n",
       "      <th>Appearance</th>\n",
       "      <th>Flavor</th>\n",
       "      <th>Mouthfeel</th>\n",
       "      <th>Overall</th>\n",
       "      <th>beer_review</th>\n",
       "    </tr>\n",
       "  </thead>\n",
       "  <tbody>\n",
       "  </tbody>\n",
       "</table>\n",
       "</div>"
      ],
      "text/plain": [
       "Empty DataFrame\n",
       "Columns: [ID, beer_name, date, grade, Aroma, Appearance, Flavor, Mouthfeel, Overall, beer_review]\n",
       "Index: []"
      ]
     },
     "execution_count": 281,
     "metadata": {},
     "output_type": "execute_result"
    }
   ],
   "source": [
    "# 세부 리뷰 값이 '-'가 아닌 데이터만 저장\n",
    "ttmp = ttmp[ttmp['Aroma']!='-']\n",
    "ttmp = ttmp[ttmp['Appearance']!='-']\n",
    "ttmp = ttmp[ttmp['Flavor']!='-']\n",
    "ttmp = ttmp[ttmp['Mouthfeel']!='-']\n",
    "ttmp = ttmp[ttmp['Overall']!='-']\n",
    "ttmp[ttmp['Aroma']=='-']"
   ]
  },
  {
   "cell_type": "code",
   "execution_count": 282,
   "id": "6d867fdf",
   "metadata": {},
   "outputs": [
    {
     "name": "stdout",
     "output_type": "stream",
     "text": [
      "<class 'pandas.core.frame.DataFrame'>\n",
      "Int64Index: 81853 entries, 0 to 83190\n",
      "Data columns (total 10 columns):\n",
      " #   Column       Non-Null Count  Dtype \n",
      "---  ------       --------------  ----- \n",
      " 0   ID           81853 non-null  object\n",
      " 1   beer_name    81853 non-null  object\n",
      " 2   date         81853 non-null  object\n",
      " 3   grade        81853 non-null  object\n",
      " 4   Aroma        81853 non-null  object\n",
      " 5   Appearance   81853 non-null  object\n",
      " 6   Flavor       81853 non-null  object\n",
      " 7   Mouthfeel    81853 non-null  object\n",
      " 8   Overall      81853 non-null  object\n",
      " 9   beer_review  81852 non-null  object\n",
      "dtypes: object(10)\n",
      "memory usage: 6.9+ MB\n"
     ]
    }
   ],
   "source": [
    "ttmp.info()"
   ]
  },
  {
   "cell_type": "code",
   "execution_count": 283,
   "id": "ebe5bad3",
   "metadata": {},
   "outputs": [
    {
     "data": {
      "text/plain": [
       "ID             0\n",
       "beer_name      0\n",
       "date           0\n",
       "grade          0\n",
       "Aroma          0\n",
       "Appearance     0\n",
       "Flavor         0\n",
       "Mouthfeel      0\n",
       "Overall        0\n",
       "beer_review    1\n",
       "dtype: int64"
      ]
     },
     "execution_count": 283,
     "metadata": {},
     "output_type": "execute_result"
    }
   ],
   "source": [
    "# 결측치 확인 \n",
    "ttmp.isna().sum()"
   ]
  },
  {
   "cell_type": "code",
   "execution_count": 285,
   "id": "73fea6d6",
   "metadata": {},
   "outputs": [],
   "source": [
    "# 결측치 제거 -> 리뷰 데이터 결측치 한개를 'no review'로 수정\n",
    "ttmp['beer_review']=ttmp['beer_review'].fillna('no review')"
   ]
  },
  {
   "cell_type": "code",
   "execution_count": 286,
   "id": "28076188",
   "metadata": {
    "scrolled": true
   },
   "outputs": [
    {
     "data": {
      "text/plain": [
       "ID             0\n",
       "beer_name      0\n",
       "date           0\n",
       "grade          0\n",
       "Aroma          0\n",
       "Appearance     0\n",
       "Flavor         0\n",
       "Mouthfeel      0\n",
       "Overall        0\n",
       "beer_review    0\n",
       "dtype: int64"
      ]
     },
     "execution_count": 286,
     "metadata": {},
     "output_type": "execute_result"
    }
   ],
   "source": [
    "# 결측치 확인 \n",
    "ttmp.isna().sum()"
   ]
  },
  {
   "cell_type": "code",
   "execution_count": 287,
   "id": "05ee6362",
   "metadata": {},
   "outputs": [
    {
     "name": "stdout",
     "output_type": "stream",
     "text": [
      "<class 'pandas.core.frame.DataFrame'>\n",
      "Int64Index: 81853 entries, 0 to 83190\n",
      "Data columns (total 10 columns):\n",
      " #   Column       Non-Null Count  Dtype \n",
      "---  ------       --------------  ----- \n",
      " 0   ID           81853 non-null  object\n",
      " 1   beer_name    81853 non-null  object\n",
      " 2   date         81853 non-null  object\n",
      " 3   grade        81853 non-null  object\n",
      " 4   Aroma        81853 non-null  object\n",
      " 5   Appearance   81853 non-null  object\n",
      " 6   Flavor       81853 non-null  object\n",
      " 7   Mouthfeel    81853 non-null  object\n",
      " 8   Overall      81853 non-null  object\n",
      " 9   beer_review  81853 non-null  object\n",
      "dtypes: object(10)\n",
      "memory usage: 6.9+ MB\n"
     ]
    }
   ],
   "source": [
    "ttmp.info()"
   ]
  },
  {
   "cell_type": "code",
   "execution_count": 288,
   "id": "d01eeb61",
   "metadata": {},
   "outputs": [
    {
     "name": "stdout",
     "output_type": "stream",
     "text": [
      "<class 'pandas.core.frame.DataFrame'>\n",
      "Int64Index: 81853 entries, 0 to 83190\n",
      "Data columns (total 10 columns):\n",
      " #   Column       Non-Null Count  Dtype  \n",
      "---  ------       --------------  -----  \n",
      " 0   ID           81853 non-null  object \n",
      " 1   beer_name    81853 non-null  object \n",
      " 2   date         81853 non-null  object \n",
      " 3   grade        81853 non-null  float64\n",
      " 4   Aroma        81853 non-null  float64\n",
      " 5   Appearance   81853 non-null  float64\n",
      " 6   Flavor       81853 non-null  float64\n",
      " 7   Mouthfeel    81853 non-null  float64\n",
      " 8   Overall      81853 non-null  float64\n",
      " 9   beer_review  81853 non-null  object \n",
      "dtypes: float64(6), object(4)\n",
      "memory usage: 6.9+ MB\n"
     ]
    }
   ],
   "source": [
    "# 수치형 데이터는 실수로 변환 : pd.to_numeric() 함수 사용\n",
    "ttmp['grade'] = pd.to_numeric(ttmp['grade'])\n",
    "ttmp['Aroma'] = pd.to_numeric(ttmp['Aroma'])\n",
    "ttmp['Appearance'] = pd.to_numeric(ttmp['Appearance'])\n",
    "ttmp['Flavor'] = pd.to_numeric(ttmp['Flavor'])\n",
    "ttmp['Mouthfeel'] = pd.to_numeric(ttmp['Mouthfeel'])\n",
    "ttmp['Overall'] = pd.to_numeric(ttmp['Overall'])\n",
    "# 중복된 행들을 제거합니다.\n",
    "ttmp.drop_duplicates(keep='first', inplace=True)\n",
    "\n",
    "# 최종 데이터 확인\n",
    "ttmp.info()"
   ]
  },
  {
   "cell_type": "code",
   "execution_count": 289,
   "id": "1de2a65c",
   "metadata": {},
   "outputs": [
    {
     "data": {
      "text/html": [
       "<div>\n",
       "<style scoped>\n",
       "    .dataframe tbody tr th:only-of-type {\n",
       "        vertical-align: middle;\n",
       "    }\n",
       "\n",
       "    .dataframe tbody tr th {\n",
       "        vertical-align: top;\n",
       "    }\n",
       "\n",
       "    .dataframe thead th {\n",
       "        text-align: right;\n",
       "    }\n",
       "</style>\n",
       "<table border=\"1\" class=\"dataframe\">\n",
       "  <thead>\n",
       "    <tr style=\"text-align: right;\">\n",
       "      <th></th>\n",
       "      <th>grade</th>\n",
       "      <th>Aroma</th>\n",
       "      <th>Appearance</th>\n",
       "      <th>Flavor</th>\n",
       "      <th>Mouthfeel</th>\n",
       "      <th>Overall</th>\n",
       "    </tr>\n",
       "  </thead>\n",
       "  <tbody>\n",
       "    <tr>\n",
       "      <th>count</th>\n",
       "      <td>81853.000000</td>\n",
       "      <td>81853.000000</td>\n",
       "      <td>81853.000000</td>\n",
       "      <td>81853.000000</td>\n",
       "      <td>81853.000000</td>\n",
       "      <td>81853.000000</td>\n",
       "    </tr>\n",
       "    <tr>\n",
       "      <th>mean</th>\n",
       "      <td>2.705411</td>\n",
       "      <td>5.008137</td>\n",
       "      <td>3.132213</td>\n",
       "      <td>5.327477</td>\n",
       "      <td>2.852712</td>\n",
       "      <td>10.731995</td>\n",
       "    </tr>\n",
       "    <tr>\n",
       "      <th>std</th>\n",
       "      <td>0.932549</td>\n",
       "      <td>2.007380</td>\n",
       "      <td>1.043144</td>\n",
       "      <td>1.997430</td>\n",
       "      <td>0.977001</td>\n",
       "      <td>4.239333</td>\n",
       "    </tr>\n",
       "    <tr>\n",
       "      <th>min</th>\n",
       "      <td>0.000000</td>\n",
       "      <td>0.000000</td>\n",
       "      <td>0.000000</td>\n",
       "      <td>0.000000</td>\n",
       "      <td>0.000000</td>\n",
       "      <td>0.000000</td>\n",
       "    </tr>\n",
       "    <tr>\n",
       "      <th>25%</th>\n",
       "      <td>2.000000</td>\n",
       "      <td>4.000000</td>\n",
       "      <td>2.000000</td>\n",
       "      <td>4.000000</td>\n",
       "      <td>2.000000</td>\n",
       "      <td>8.000000</td>\n",
       "    </tr>\n",
       "    <tr>\n",
       "      <th>50%</th>\n",
       "      <td>2.800000</td>\n",
       "      <td>5.000000</td>\n",
       "      <td>3.000000</td>\n",
       "      <td>5.000000</td>\n",
       "      <td>3.000000</td>\n",
       "      <td>11.000000</td>\n",
       "    </tr>\n",
       "    <tr>\n",
       "      <th>75%</th>\n",
       "      <td>3.400000</td>\n",
       "      <td>6.000000</td>\n",
       "      <td>4.000000</td>\n",
       "      <td>7.000000</td>\n",
       "      <td>3.000000</td>\n",
       "      <td>14.000000</td>\n",
       "    </tr>\n",
       "    <tr>\n",
       "      <th>max</th>\n",
       "      <td>15.000000</td>\n",
       "      <td>10.000000</td>\n",
       "      <td>5.000000</td>\n",
       "      <td>10.000000</td>\n",
       "      <td>5.000000</td>\n",
       "      <td>20.000000</td>\n",
       "    </tr>\n",
       "  </tbody>\n",
       "</table>\n",
       "</div>"
      ],
      "text/plain": [
       "              grade         Aroma    Appearance        Flavor     Mouthfeel  \\\n",
       "count  81853.000000  81853.000000  81853.000000  81853.000000  81853.000000   \n",
       "mean       2.705411      5.008137      3.132213      5.327477      2.852712   \n",
       "std        0.932549      2.007380      1.043144      1.997430      0.977001   \n",
       "min        0.000000      0.000000      0.000000      0.000000      0.000000   \n",
       "25%        2.000000      4.000000      2.000000      4.000000      2.000000   \n",
       "50%        2.800000      5.000000      3.000000      5.000000      3.000000   \n",
       "75%        3.400000      6.000000      4.000000      7.000000      3.000000   \n",
       "max       15.000000     10.000000      5.000000     10.000000      5.000000   \n",
       "\n",
       "            Overall  \n",
       "count  81853.000000  \n",
       "mean      10.731995  \n",
       "std        4.239333  \n",
       "min        0.000000  \n",
       "25%        8.000000  \n",
       "50%       11.000000  \n",
       "75%       14.000000  \n",
       "max       20.000000  "
      ]
     },
     "execution_count": 289,
     "metadata": {},
     "output_type": "execute_result"
    }
   ],
   "source": [
    "# 최종 데이터 값 분포 확인\n",
    "ttmp.describe()"
   ]
  },
  {
   "cell_type": "code",
   "execution_count": 290,
   "id": "ee3f168b",
   "metadata": {},
   "outputs": [],
   "source": [
    "ttmp.to_csv('pretty_beer_preprocessing.csv', encoding='utf-8')"
   ]
  },
  {
   "cell_type": "markdown",
   "id": "8f4c2a3d-23c8-47be-9202-5581139604f9",
   "metadata": {},
   "source": [
    "# 특정 언어 삭제 (영어 en만 남기기)"
   ]
  },
  {
   "cell_type": "code",
   "execution_count": null,
   "id": "8a268fbe-790a-4afb-bfb6-7a058d88d032",
   "metadata": {},
   "outputs": [],
   "source": [
    "import pandas as pd\n",
    "import numpy as np\n",
    "import matplotlib.pyplot as plt\n",
    "import re\n",
    "import urllib.request\n",
    "from konlpy.tag import Okt\n",
    "from tqdm import tqdm\n",
    "from tensorflow.keras.preprocessing.text import Tokenizer\n",
    "from tensorflow.keras.preprocessing.sequence import pad_sequences\n",
    "from collections import Counter\n",
    "from langdetect import detect\n",
    "from tqdm import tqdm"
   ]
  },
  {
   "cell_type": "code",
   "execution_count": null,
   "id": "669cb0b2-2054-4026-9f9d-072b23d4ae8b",
   "metadata": {},
   "outputs": [],
   "source": [
    "df = pd.read_csv('./data/pretty_beer_preprocessing.csv', index_col = 0)"
   ]
  },
  {
   "cell_type": "code",
   "execution_count": null,
   "id": "d4f5ee9f-9bcd-48bc-ba1e-a8bfd288ac95",
   "metadata": {},
   "outputs": [],
   "source": [
    "df"
   ]
  },
  {
   "cell_type": "code",
   "execution_count": null,
   "id": "fa793e87-6786-499b-b6e2-f6ab8f7ab40d",
   "metadata": {},
   "outputs": [],
   "source": [
    "df.beer_review"
   ]
  },
  {
   "cell_type": "code",
   "execution_count": null,
   "id": "489f4f13-c7fd-48ec-9a6e-295767588210",
   "metadata": {},
   "outputs": [],
   "source": [
    "df.beer_review.isnull().sum()"
   ]
  },
  {
   "cell_type": "code",
   "execution_count": null,
   "id": "a82219c1-8fdb-4460-9f85-36aa6591055e",
   "metadata": {},
   "outputs": [],
   "source": [
    "ans = []\n",
    "error = []\n",
    "num = []\n",
    "for i in tqdm(range(len(df.beer_review))):\n",
    "    try:\n",
    "        detected = detect(df.beer_review.iloc[i])\n",
    "        ans.append(detected)\n",
    "        num.append(i)\n",
    "    except:\n",
    "        error.append(i)"
   ]
  },
  {
   "cell_type": "code",
   "execution_count": null,
   "id": "e369956f-a8ae-4246-af6c-e844620320c7",
   "metadata": {},
   "outputs": [],
   "source": [
    "df2 = pd.DataFrame(ans)\n",
    "df2"
   ]
  },
  {
   "cell_type": "code",
   "execution_count": null,
   "id": "1bbaa9e5-cb92-42d7-9e5f-1464ce2ec7bd",
   "metadata": {},
   "outputs": [],
   "source": [
    "df2.value_counts()"
   ]
  },
  {
   "cell_type": "code",
   "execution_count": null,
   "id": "b74687ca-c230-470b-a69c-212c5e1e8225",
   "metadata": {},
   "outputs": [],
   "source": [
    "ans"
   ]
  },
  {
   "cell_type": "code",
   "execution_count": null,
   "id": "5b8ac1c6-435a-4ca9-aa57-a473b1a02cdc",
   "metadata": {},
   "outputs": [],
   "source": [
    "df['lang'] = 0"
   ]
  },
  {
   "cell_type": "code",
   "execution_count": null,
   "id": "468061fc-bbae-400b-9244-d294174b188f",
   "metadata": {},
   "outputs": [],
   "source": [
    "df.lang.iloc[error] = 'er'"
   ]
  },
  {
   "cell_type": "code",
   "execution_count": null,
   "id": "a92df06d-94a9-43e1-a26f-811a36bd2d5e",
   "metadata": {},
   "outputs": [],
   "source": [
    "df.lang.iloc[num] = ans"
   ]
  },
  {
   "cell_type": "code",
   "execution_count": null,
   "id": "8f3c432d-58ab-4794-b862-8ec111223a51",
   "metadata": {},
   "outputs": [],
   "source": [
    "df_fin = df[df.lang == 'en']"
   ]
  },
  {
   "cell_type": "code",
   "execution_count": null,
   "id": "3464fe47-8699-4ce6-ab64-373a627351bd",
   "metadata": {},
   "outputs": [],
   "source": [
    "df_fin.to_csv('./data/beer_only_eng.csv')"
   ]
  },
  {
   "cell_type": "markdown",
   "id": "f10aab8d-b24e-486b-ab8d-5a8fb54b73bc",
   "metadata": {},
   "source": [
    "# 영어만 남긴 전처리 데이터 저장 "
   ]
  }
 ],
 "metadata": {
  "kernelspec": {
   "display_name": "Python 3 (ipykernel)",
   "language": "python",
   "name": "python3"
  },
  "language_info": {
   "codemirror_mode": {
    "name": "ipython",
    "version": 3
   },
   "file_extension": ".py",
   "mimetype": "text/x-python",
   "name": "python",
   "nbconvert_exporter": "python",
   "pygments_lexer": "ipython3",
   "version": "3.10.6"
  },
  "toc": {
   "base_numbering": 1,
   "nav_menu": {},
   "number_sections": true,
   "sideBar": true,
   "skip_h1_title": false,
   "title_cell": "Table of Contents",
   "title_sidebar": "Contents",
   "toc_cell": false,
   "toc_position": {},
   "toc_section_display": true,
   "toc_window_display": false
  },
  "toc-showmarkdowntxt": false
 },
 "nbformat": 4,
 "nbformat_minor": 5
}
